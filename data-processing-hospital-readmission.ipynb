{
 "cells": [
  {
   "cell_type": "markdown",
   "id": "a10d4b9a",
   "metadata": {
    "papermill": {
     "duration": 0.010322,
     "end_time": "2024-03-06T05:24:04.682271",
     "exception": false,
     "start_time": "2024-03-06T05:24:04.671949",
     "status": "completed"
    },
    "tags": []
   },
   "source": [
    "## Problem Statement"
   ]
  },
  {
   "cell_type": "markdown",
   "id": "8b2d8365",
   "metadata": {
    "papermill": {
     "duration": 0.010669,
     "end_time": "2024-03-06T05:24:04.702596",
     "exception": false,
     "start_time": "2024-03-06T05:24:04.691927",
     "status": "completed"
    },
    "tags": []
   },
   "source": [
    "A hospital readmission is when a patient who is discharged from the hospital, gets re-admitted again within a certain period of time. Hospital readmission rates for certain conditions are now considered an indicator of hospital quality, and also affect the cost of care adversely. For this reason, Centers for Medicare & Medicaid Services established the Hospital Readmissions Reduction Program which aims to improve quality of care for patients and reduce health care spending by applying payment penalties to hospitals that have more than expected readmission rates for certain conditions. Although diabetes is not yet included in the penalty measures, the program is regularly adding new disease conditions to the list, now totaling 6 for FY2018. In 2011, American hospitals spent over 41 billion dollars on diabetic patients who got readmitted within 30 days of discharge. Being able to determine factors that lead to higher readmission in such patients, and correspondingly being able to predict which patients will get readmitted can help hospitals save millions of dollars while improving quality of care. "
   ]
  },
  {
   "cell_type": "markdown",
   "id": "e83322d7",
   "metadata": {
    "id": "mN5SRk4pWDLD",
    "papermill": {
     "duration": 0.009362,
     "end_time": "2024-03-06T05:24:04.721600",
     "exception": false,
     "start_time": "2024-03-06T05:24:04.712238",
     "status": "completed"
    },
    "tags": []
   },
   "source": [
    "## Loading libraries"
   ]
  },
  {
   "cell_type": "code",
   "execution_count": 1,
   "id": "47655bcc",
   "metadata": {
    "execution": {
     "iopub.execute_input": "2024-03-06T05:24:04.742922Z",
     "iopub.status.busy": "2024-03-06T05:24:04.742019Z",
     "iopub.status.idle": "2024-03-06T05:24:04.752492Z",
     "shell.execute_reply": "2024-03-06T05:24:04.751634Z"
    },
    "id": "EtbvIzaBWBRW",
    "papermill": {
     "duration": 0.023192,
     "end_time": "2024-03-06T05:24:04.754451",
     "exception": false,
     "start_time": "2024-03-06T05:24:04.731259",
     "status": "completed"
    },
    "tags": []
   },
   "outputs": [],
   "source": [
    "import pandas as pd\n",
    "import numpy as np\n",
    "import matplotlib.pyplot as plt"
   ]
  },
  {
   "cell_type": "markdown",
   "id": "886ec73e",
   "metadata": {
    "id": "VlQWzEsSWQND",
    "papermill": {
     "duration": 0.009597,
     "end_time": "2024-03-06T05:24:04.774176",
     "exception": false,
     "start_time": "2024-03-06T05:24:04.764579",
     "status": "completed"
    },
    "tags": []
   },
   "source": [
    "## Reading CSV file"
   ]
  },
  {
   "cell_type": "code",
   "execution_count": 2,
   "id": "6a39ca0c",
   "metadata": {
    "execution": {
     "iopub.execute_input": "2024-03-06T05:24:04.795886Z",
     "iopub.status.busy": "2024-03-06T05:24:04.795541Z",
     "iopub.status.idle": "2024-03-06T05:24:05.457023Z",
     "shell.execute_reply": "2024-03-06T05:24:05.455472Z"
    },
    "id": "n9wv5NkqWmRL",
    "papermill": {
     "duration": 0.675106,
     "end_time": "2024-03-06T05:24:05.459255",
     "exception": false,
     "start_time": "2024-03-06T05:24:04.784149",
     "status": "completed"
    },
    "tags": []
   },
   "outputs": [],
   "source": [
    "df = pd.read_csv(\"/kaggle/input/diabetes/diabetic_data.csv\")"
   ]
  },
  {
   "cell_type": "markdown",
   "id": "a4410229",
   "metadata": {
    "id": "Xt72EZ60W7_Q",
    "papermill": {
     "duration": 0.009781,
     "end_time": "2024-03-06T05:24:05.479228",
     "exception": false,
     "start_time": "2024-03-06T05:24:05.469447",
     "status": "completed"
    },
    "tags": []
   },
   "source": [
    "## Data preview"
   ]
  },
  {
   "cell_type": "code",
   "execution_count": 3,
   "id": "5535d301",
   "metadata": {
    "execution": {
     "iopub.execute_input": "2024-03-06T05:24:05.500601Z",
     "iopub.status.busy": "2024-03-06T05:24:05.500261Z",
     "iopub.status.idle": "2024-03-06T05:24:05.531295Z",
     "shell.execute_reply": "2024-03-06T05:24:05.530263Z"
    },
    "id": "PC9Qf3nu_vdn",
    "outputId": "4c631ebd-ac73-4d12-bf78-01ba43a28c2d",
    "papermill": {
     "duration": 0.044608,
     "end_time": "2024-03-06T05:24:05.533696",
     "exception": false,
     "start_time": "2024-03-06T05:24:05.489088",
     "status": "completed"
    },
    "tags": []
   },
   "outputs": [
    {
     "data": {
      "text/html": [
       "<div>\n",
       "<style scoped>\n",
       "    .dataframe tbody tr th:only-of-type {\n",
       "        vertical-align: middle;\n",
       "    }\n",
       "\n",
       "    .dataframe tbody tr th {\n",
       "        vertical-align: top;\n",
       "    }\n",
       "\n",
       "    .dataframe thead th {\n",
       "        text-align: right;\n",
       "    }\n",
       "</style>\n",
       "<table border=\"1\" class=\"dataframe\">\n",
       "  <thead>\n",
       "    <tr style=\"text-align: right;\">\n",
       "      <th></th>\n",
       "      <th>0</th>\n",
       "      <th>1</th>\n",
       "      <th>2</th>\n",
       "      <th>3</th>\n",
       "      <th>4</th>\n",
       "      <th>5</th>\n",
       "      <th>6</th>\n",
       "      <th>7</th>\n",
       "      <th>8</th>\n",
       "      <th>9</th>\n",
       "    </tr>\n",
       "  </thead>\n",
       "  <tbody>\n",
       "    <tr>\n",
       "      <th>encounter_id</th>\n",
       "      <td>2278392</td>\n",
       "      <td>149190</td>\n",
       "      <td>64410</td>\n",
       "      <td>500364</td>\n",
       "      <td>16680</td>\n",
       "      <td>35754</td>\n",
       "      <td>55842</td>\n",
       "      <td>63768</td>\n",
       "      <td>12522</td>\n",
       "      <td>15738</td>\n",
       "    </tr>\n",
       "    <tr>\n",
       "      <th>patient_nbr</th>\n",
       "      <td>8222157</td>\n",
       "      <td>55629189</td>\n",
       "      <td>86047875</td>\n",
       "      <td>82442376</td>\n",
       "      <td>42519267</td>\n",
       "      <td>82637451</td>\n",
       "      <td>84259809</td>\n",
       "      <td>114882984</td>\n",
       "      <td>48330783</td>\n",
       "      <td>63555939</td>\n",
       "    </tr>\n",
       "    <tr>\n",
       "      <th>race</th>\n",
       "      <td>Caucasian</td>\n",
       "      <td>Caucasian</td>\n",
       "      <td>AfricanAmerican</td>\n",
       "      <td>Caucasian</td>\n",
       "      <td>Caucasian</td>\n",
       "      <td>Caucasian</td>\n",
       "      <td>Caucasian</td>\n",
       "      <td>Caucasian</td>\n",
       "      <td>Caucasian</td>\n",
       "      <td>Caucasian</td>\n",
       "    </tr>\n",
       "    <tr>\n",
       "      <th>gender</th>\n",
       "      <td>Female</td>\n",
       "      <td>Female</td>\n",
       "      <td>Female</td>\n",
       "      <td>Male</td>\n",
       "      <td>Male</td>\n",
       "      <td>Male</td>\n",
       "      <td>Male</td>\n",
       "      <td>Male</td>\n",
       "      <td>Female</td>\n",
       "      <td>Female</td>\n",
       "    </tr>\n",
       "    <tr>\n",
       "      <th>age</th>\n",
       "      <td>[0-10)</td>\n",
       "      <td>[10-20)</td>\n",
       "      <td>[20-30)</td>\n",
       "      <td>[30-40)</td>\n",
       "      <td>[40-50)</td>\n",
       "      <td>[50-60)</td>\n",
       "      <td>[60-70)</td>\n",
       "      <td>[70-80)</td>\n",
       "      <td>[80-90)</td>\n",
       "      <td>[90-100)</td>\n",
       "    </tr>\n",
       "    <tr>\n",
       "      <th>weight</th>\n",
       "      <td>?</td>\n",
       "      <td>?</td>\n",
       "      <td>?</td>\n",
       "      <td>?</td>\n",
       "      <td>?</td>\n",
       "      <td>?</td>\n",
       "      <td>?</td>\n",
       "      <td>?</td>\n",
       "      <td>?</td>\n",
       "      <td>?</td>\n",
       "    </tr>\n",
       "    <tr>\n",
       "      <th>admission_type_id</th>\n",
       "      <td>6</td>\n",
       "      <td>1</td>\n",
       "      <td>1</td>\n",
       "      <td>1</td>\n",
       "      <td>1</td>\n",
       "      <td>2</td>\n",
       "      <td>3</td>\n",
       "      <td>1</td>\n",
       "      <td>2</td>\n",
       "      <td>3</td>\n",
       "    </tr>\n",
       "    <tr>\n",
       "      <th>discharge_disposition_id</th>\n",
       "      <td>25</td>\n",
       "      <td>1</td>\n",
       "      <td>1</td>\n",
       "      <td>1</td>\n",
       "      <td>1</td>\n",
       "      <td>1</td>\n",
       "      <td>1</td>\n",
       "      <td>1</td>\n",
       "      <td>1</td>\n",
       "      <td>3</td>\n",
       "    </tr>\n",
       "    <tr>\n",
       "      <th>admission_source_id</th>\n",
       "      <td>1</td>\n",
       "      <td>7</td>\n",
       "      <td>7</td>\n",
       "      <td>7</td>\n",
       "      <td>7</td>\n",
       "      <td>2</td>\n",
       "      <td>2</td>\n",
       "      <td>7</td>\n",
       "      <td>4</td>\n",
       "      <td>4</td>\n",
       "    </tr>\n",
       "    <tr>\n",
       "      <th>time_in_hospital</th>\n",
       "      <td>1</td>\n",
       "      <td>3</td>\n",
       "      <td>2</td>\n",
       "      <td>2</td>\n",
       "      <td>1</td>\n",
       "      <td>3</td>\n",
       "      <td>4</td>\n",
       "      <td>5</td>\n",
       "      <td>13</td>\n",
       "      <td>12</td>\n",
       "    </tr>\n",
       "    <tr>\n",
       "      <th>payer_code</th>\n",
       "      <td>?</td>\n",
       "      <td>?</td>\n",
       "      <td>?</td>\n",
       "      <td>?</td>\n",
       "      <td>?</td>\n",
       "      <td>?</td>\n",
       "      <td>?</td>\n",
       "      <td>?</td>\n",
       "      <td>?</td>\n",
       "      <td>?</td>\n",
       "    </tr>\n",
       "    <tr>\n",
       "      <th>medical_specialty</th>\n",
       "      <td>Pediatrics-Endocrinology</td>\n",
       "      <td>?</td>\n",
       "      <td>?</td>\n",
       "      <td>?</td>\n",
       "      <td>?</td>\n",
       "      <td>?</td>\n",
       "      <td>?</td>\n",
       "      <td>?</td>\n",
       "      <td>?</td>\n",
       "      <td>InternalMedicine</td>\n",
       "    </tr>\n",
       "    <tr>\n",
       "      <th>num_lab_procedures</th>\n",
       "      <td>41</td>\n",
       "      <td>59</td>\n",
       "      <td>11</td>\n",
       "      <td>44</td>\n",
       "      <td>51</td>\n",
       "      <td>31</td>\n",
       "      <td>70</td>\n",
       "      <td>73</td>\n",
       "      <td>68</td>\n",
       "      <td>33</td>\n",
       "    </tr>\n",
       "    <tr>\n",
       "      <th>num_procedures</th>\n",
       "      <td>0</td>\n",
       "      <td>0</td>\n",
       "      <td>5</td>\n",
       "      <td>1</td>\n",
       "      <td>0</td>\n",
       "      <td>6</td>\n",
       "      <td>1</td>\n",
       "      <td>0</td>\n",
       "      <td>2</td>\n",
       "      <td>3</td>\n",
       "    </tr>\n",
       "    <tr>\n",
       "      <th>num_medications</th>\n",
       "      <td>1</td>\n",
       "      <td>18</td>\n",
       "      <td>13</td>\n",
       "      <td>16</td>\n",
       "      <td>8</td>\n",
       "      <td>16</td>\n",
       "      <td>21</td>\n",
       "      <td>12</td>\n",
       "      <td>28</td>\n",
       "      <td>18</td>\n",
       "    </tr>\n",
       "    <tr>\n",
       "      <th>number_outpatient</th>\n",
       "      <td>0</td>\n",
       "      <td>0</td>\n",
       "      <td>2</td>\n",
       "      <td>0</td>\n",
       "      <td>0</td>\n",
       "      <td>0</td>\n",
       "      <td>0</td>\n",
       "      <td>0</td>\n",
       "      <td>0</td>\n",
       "      <td>0</td>\n",
       "    </tr>\n",
       "    <tr>\n",
       "      <th>number_emergency</th>\n",
       "      <td>0</td>\n",
       "      <td>0</td>\n",
       "      <td>0</td>\n",
       "      <td>0</td>\n",
       "      <td>0</td>\n",
       "      <td>0</td>\n",
       "      <td>0</td>\n",
       "      <td>0</td>\n",
       "      <td>0</td>\n",
       "      <td>0</td>\n",
       "    </tr>\n",
       "    <tr>\n",
       "      <th>number_inpatient</th>\n",
       "      <td>0</td>\n",
       "      <td>0</td>\n",
       "      <td>1</td>\n",
       "      <td>0</td>\n",
       "      <td>0</td>\n",
       "      <td>0</td>\n",
       "      <td>0</td>\n",
       "      <td>0</td>\n",
       "      <td>0</td>\n",
       "      <td>0</td>\n",
       "    </tr>\n",
       "    <tr>\n",
       "      <th>diag_1</th>\n",
       "      <td>250.83</td>\n",
       "      <td>276</td>\n",
       "      <td>648</td>\n",
       "      <td>8</td>\n",
       "      <td>197</td>\n",
       "      <td>414</td>\n",
       "      <td>414</td>\n",
       "      <td>428</td>\n",
       "      <td>398</td>\n",
       "      <td>434</td>\n",
       "    </tr>\n",
       "    <tr>\n",
       "      <th>diag_2</th>\n",
       "      <td>?</td>\n",
       "      <td>250.01</td>\n",
       "      <td>250</td>\n",
       "      <td>250.43</td>\n",
       "      <td>157</td>\n",
       "      <td>411</td>\n",
       "      <td>411</td>\n",
       "      <td>492</td>\n",
       "      <td>427</td>\n",
       "      <td>198</td>\n",
       "    </tr>\n",
       "    <tr>\n",
       "      <th>diag_3</th>\n",
       "      <td>?</td>\n",
       "      <td>255</td>\n",
       "      <td>V27</td>\n",
       "      <td>403</td>\n",
       "      <td>250</td>\n",
       "      <td>250</td>\n",
       "      <td>V45</td>\n",
       "      <td>250</td>\n",
       "      <td>38</td>\n",
       "      <td>486</td>\n",
       "    </tr>\n",
       "    <tr>\n",
       "      <th>number_diagnoses</th>\n",
       "      <td>1</td>\n",
       "      <td>9</td>\n",
       "      <td>6</td>\n",
       "      <td>7</td>\n",
       "      <td>5</td>\n",
       "      <td>9</td>\n",
       "      <td>7</td>\n",
       "      <td>8</td>\n",
       "      <td>8</td>\n",
       "      <td>8</td>\n",
       "    </tr>\n",
       "    <tr>\n",
       "      <th>max_glu_serum</th>\n",
       "      <td>None</td>\n",
       "      <td>None</td>\n",
       "      <td>None</td>\n",
       "      <td>None</td>\n",
       "      <td>None</td>\n",
       "      <td>None</td>\n",
       "      <td>None</td>\n",
       "      <td>None</td>\n",
       "      <td>None</td>\n",
       "      <td>None</td>\n",
       "    </tr>\n",
       "    <tr>\n",
       "      <th>A1Cresult</th>\n",
       "      <td>None</td>\n",
       "      <td>None</td>\n",
       "      <td>None</td>\n",
       "      <td>None</td>\n",
       "      <td>None</td>\n",
       "      <td>None</td>\n",
       "      <td>None</td>\n",
       "      <td>None</td>\n",
       "      <td>None</td>\n",
       "      <td>None</td>\n",
       "    </tr>\n",
       "    <tr>\n",
       "      <th>metformin</th>\n",
       "      <td>No</td>\n",
       "      <td>No</td>\n",
       "      <td>No</td>\n",
       "      <td>No</td>\n",
       "      <td>No</td>\n",
       "      <td>No</td>\n",
       "      <td>Steady</td>\n",
       "      <td>No</td>\n",
       "      <td>No</td>\n",
       "      <td>No</td>\n",
       "    </tr>\n",
       "    <tr>\n",
       "      <th>repaglinide</th>\n",
       "      <td>No</td>\n",
       "      <td>No</td>\n",
       "      <td>No</td>\n",
       "      <td>No</td>\n",
       "      <td>No</td>\n",
       "      <td>No</td>\n",
       "      <td>No</td>\n",
       "      <td>No</td>\n",
       "      <td>No</td>\n",
       "      <td>No</td>\n",
       "    </tr>\n",
       "    <tr>\n",
       "      <th>nateglinide</th>\n",
       "      <td>No</td>\n",
       "      <td>No</td>\n",
       "      <td>No</td>\n",
       "      <td>No</td>\n",
       "      <td>No</td>\n",
       "      <td>No</td>\n",
       "      <td>No</td>\n",
       "      <td>No</td>\n",
       "      <td>No</td>\n",
       "      <td>No</td>\n",
       "    </tr>\n",
       "    <tr>\n",
       "      <th>chlorpropamide</th>\n",
       "      <td>No</td>\n",
       "      <td>No</td>\n",
       "      <td>No</td>\n",
       "      <td>No</td>\n",
       "      <td>No</td>\n",
       "      <td>No</td>\n",
       "      <td>No</td>\n",
       "      <td>No</td>\n",
       "      <td>No</td>\n",
       "      <td>No</td>\n",
       "    </tr>\n",
       "    <tr>\n",
       "      <th>glimepiride</th>\n",
       "      <td>No</td>\n",
       "      <td>No</td>\n",
       "      <td>No</td>\n",
       "      <td>No</td>\n",
       "      <td>No</td>\n",
       "      <td>No</td>\n",
       "      <td>Steady</td>\n",
       "      <td>No</td>\n",
       "      <td>No</td>\n",
       "      <td>No</td>\n",
       "    </tr>\n",
       "    <tr>\n",
       "      <th>acetohexamide</th>\n",
       "      <td>No</td>\n",
       "      <td>No</td>\n",
       "      <td>No</td>\n",
       "      <td>No</td>\n",
       "      <td>No</td>\n",
       "      <td>No</td>\n",
       "      <td>No</td>\n",
       "      <td>No</td>\n",
       "      <td>No</td>\n",
       "      <td>No</td>\n",
       "    </tr>\n",
       "    <tr>\n",
       "      <th>glipizide</th>\n",
       "      <td>No</td>\n",
       "      <td>No</td>\n",
       "      <td>Steady</td>\n",
       "      <td>No</td>\n",
       "      <td>Steady</td>\n",
       "      <td>No</td>\n",
       "      <td>No</td>\n",
       "      <td>No</td>\n",
       "      <td>Steady</td>\n",
       "      <td>No</td>\n",
       "    </tr>\n",
       "    <tr>\n",
       "      <th>glyburide</th>\n",
       "      <td>No</td>\n",
       "      <td>No</td>\n",
       "      <td>No</td>\n",
       "      <td>No</td>\n",
       "      <td>No</td>\n",
       "      <td>No</td>\n",
       "      <td>No</td>\n",
       "      <td>Steady</td>\n",
       "      <td>No</td>\n",
       "      <td>No</td>\n",
       "    </tr>\n",
       "    <tr>\n",
       "      <th>tolbutamide</th>\n",
       "      <td>No</td>\n",
       "      <td>No</td>\n",
       "      <td>No</td>\n",
       "      <td>No</td>\n",
       "      <td>No</td>\n",
       "      <td>No</td>\n",
       "      <td>No</td>\n",
       "      <td>No</td>\n",
       "      <td>No</td>\n",
       "      <td>No</td>\n",
       "    </tr>\n",
       "    <tr>\n",
       "      <th>pioglitazone</th>\n",
       "      <td>No</td>\n",
       "      <td>No</td>\n",
       "      <td>No</td>\n",
       "      <td>No</td>\n",
       "      <td>No</td>\n",
       "      <td>No</td>\n",
       "      <td>No</td>\n",
       "      <td>No</td>\n",
       "      <td>No</td>\n",
       "      <td>No</td>\n",
       "    </tr>\n",
       "    <tr>\n",
       "      <th>rosiglitazone</th>\n",
       "      <td>No</td>\n",
       "      <td>No</td>\n",
       "      <td>No</td>\n",
       "      <td>No</td>\n",
       "      <td>No</td>\n",
       "      <td>No</td>\n",
       "      <td>No</td>\n",
       "      <td>No</td>\n",
       "      <td>No</td>\n",
       "      <td>Steady</td>\n",
       "    </tr>\n",
       "    <tr>\n",
       "      <th>acarbose</th>\n",
       "      <td>No</td>\n",
       "      <td>No</td>\n",
       "      <td>No</td>\n",
       "      <td>No</td>\n",
       "      <td>No</td>\n",
       "      <td>No</td>\n",
       "      <td>No</td>\n",
       "      <td>No</td>\n",
       "      <td>No</td>\n",
       "      <td>No</td>\n",
       "    </tr>\n",
       "    <tr>\n",
       "      <th>miglitol</th>\n",
       "      <td>No</td>\n",
       "      <td>No</td>\n",
       "      <td>No</td>\n",
       "      <td>No</td>\n",
       "      <td>No</td>\n",
       "      <td>No</td>\n",
       "      <td>No</td>\n",
       "      <td>No</td>\n",
       "      <td>No</td>\n",
       "      <td>No</td>\n",
       "    </tr>\n",
       "    <tr>\n",
       "      <th>troglitazone</th>\n",
       "      <td>No</td>\n",
       "      <td>No</td>\n",
       "      <td>No</td>\n",
       "      <td>No</td>\n",
       "      <td>No</td>\n",
       "      <td>No</td>\n",
       "      <td>No</td>\n",
       "      <td>No</td>\n",
       "      <td>No</td>\n",
       "      <td>No</td>\n",
       "    </tr>\n",
       "    <tr>\n",
       "      <th>tolazamide</th>\n",
       "      <td>No</td>\n",
       "      <td>No</td>\n",
       "      <td>No</td>\n",
       "      <td>No</td>\n",
       "      <td>No</td>\n",
       "      <td>No</td>\n",
       "      <td>No</td>\n",
       "      <td>No</td>\n",
       "      <td>No</td>\n",
       "      <td>No</td>\n",
       "    </tr>\n",
       "    <tr>\n",
       "      <th>examide</th>\n",
       "      <td>No</td>\n",
       "      <td>No</td>\n",
       "      <td>No</td>\n",
       "      <td>No</td>\n",
       "      <td>No</td>\n",
       "      <td>No</td>\n",
       "      <td>No</td>\n",
       "      <td>No</td>\n",
       "      <td>No</td>\n",
       "      <td>No</td>\n",
       "    </tr>\n",
       "    <tr>\n",
       "      <th>citoglipton</th>\n",
       "      <td>No</td>\n",
       "      <td>No</td>\n",
       "      <td>No</td>\n",
       "      <td>No</td>\n",
       "      <td>No</td>\n",
       "      <td>No</td>\n",
       "      <td>No</td>\n",
       "      <td>No</td>\n",
       "      <td>No</td>\n",
       "      <td>No</td>\n",
       "    </tr>\n",
       "    <tr>\n",
       "      <th>insulin</th>\n",
       "      <td>No</td>\n",
       "      <td>Up</td>\n",
       "      <td>No</td>\n",
       "      <td>Up</td>\n",
       "      <td>Steady</td>\n",
       "      <td>Steady</td>\n",
       "      <td>Steady</td>\n",
       "      <td>No</td>\n",
       "      <td>Steady</td>\n",
       "      <td>Steady</td>\n",
       "    </tr>\n",
       "    <tr>\n",
       "      <th>glyburide-metformin</th>\n",
       "      <td>No</td>\n",
       "      <td>No</td>\n",
       "      <td>No</td>\n",
       "      <td>No</td>\n",
       "      <td>No</td>\n",
       "      <td>No</td>\n",
       "      <td>No</td>\n",
       "      <td>No</td>\n",
       "      <td>No</td>\n",
       "      <td>No</td>\n",
       "    </tr>\n",
       "    <tr>\n",
       "      <th>glipizide-metformin</th>\n",
       "      <td>No</td>\n",
       "      <td>No</td>\n",
       "      <td>No</td>\n",
       "      <td>No</td>\n",
       "      <td>No</td>\n",
       "      <td>No</td>\n",
       "      <td>No</td>\n",
       "      <td>No</td>\n",
       "      <td>No</td>\n",
       "      <td>No</td>\n",
       "    </tr>\n",
       "    <tr>\n",
       "      <th>glimepiride-pioglitazone</th>\n",
       "      <td>No</td>\n",
       "      <td>No</td>\n",
       "      <td>No</td>\n",
       "      <td>No</td>\n",
       "      <td>No</td>\n",
       "      <td>No</td>\n",
       "      <td>No</td>\n",
       "      <td>No</td>\n",
       "      <td>No</td>\n",
       "      <td>No</td>\n",
       "    </tr>\n",
       "    <tr>\n",
       "      <th>metformin-rosiglitazone</th>\n",
       "      <td>No</td>\n",
       "      <td>No</td>\n",
       "      <td>No</td>\n",
       "      <td>No</td>\n",
       "      <td>No</td>\n",
       "      <td>No</td>\n",
       "      <td>No</td>\n",
       "      <td>No</td>\n",
       "      <td>No</td>\n",
       "      <td>No</td>\n",
       "    </tr>\n",
       "    <tr>\n",
       "      <th>metformin-pioglitazone</th>\n",
       "      <td>No</td>\n",
       "      <td>No</td>\n",
       "      <td>No</td>\n",
       "      <td>No</td>\n",
       "      <td>No</td>\n",
       "      <td>No</td>\n",
       "      <td>No</td>\n",
       "      <td>No</td>\n",
       "      <td>No</td>\n",
       "      <td>No</td>\n",
       "    </tr>\n",
       "    <tr>\n",
       "      <th>change</th>\n",
       "      <td>No</td>\n",
       "      <td>Ch</td>\n",
       "      <td>No</td>\n",
       "      <td>Ch</td>\n",
       "      <td>Ch</td>\n",
       "      <td>No</td>\n",
       "      <td>Ch</td>\n",
       "      <td>No</td>\n",
       "      <td>Ch</td>\n",
       "      <td>Ch</td>\n",
       "    </tr>\n",
       "    <tr>\n",
       "      <th>diabetesMed</th>\n",
       "      <td>No</td>\n",
       "      <td>Yes</td>\n",
       "      <td>Yes</td>\n",
       "      <td>Yes</td>\n",
       "      <td>Yes</td>\n",
       "      <td>Yes</td>\n",
       "      <td>Yes</td>\n",
       "      <td>Yes</td>\n",
       "      <td>Yes</td>\n",
       "      <td>Yes</td>\n",
       "    </tr>\n",
       "    <tr>\n",
       "      <th>readmitted</th>\n",
       "      <td>NO</td>\n",
       "      <td>&gt;30</td>\n",
       "      <td>NO</td>\n",
       "      <td>NO</td>\n",
       "      <td>NO</td>\n",
       "      <td>&gt;30</td>\n",
       "      <td>NO</td>\n",
       "      <td>&gt;30</td>\n",
       "      <td>NO</td>\n",
       "      <td>NO</td>\n",
       "    </tr>\n",
       "  </tbody>\n",
       "</table>\n",
       "</div>"
      ],
      "text/plain": [
       "                                                 0          1  \\\n",
       "encounter_id                               2278392     149190   \n",
       "patient_nbr                                8222157   55629189   \n",
       "race                                     Caucasian  Caucasian   \n",
       "gender                                      Female     Female   \n",
       "age                                         [0-10)    [10-20)   \n",
       "weight                                           ?          ?   \n",
       "admission_type_id                                6          1   \n",
       "discharge_disposition_id                        25          1   \n",
       "admission_source_id                              1          7   \n",
       "time_in_hospital                                 1          3   \n",
       "payer_code                                       ?          ?   \n",
       "medical_specialty         Pediatrics-Endocrinology          ?   \n",
       "num_lab_procedures                              41         59   \n",
       "num_procedures                                   0          0   \n",
       "num_medications                                  1         18   \n",
       "number_outpatient                                0          0   \n",
       "number_emergency                                 0          0   \n",
       "number_inpatient                                 0          0   \n",
       "diag_1                                      250.83        276   \n",
       "diag_2                                           ?     250.01   \n",
       "diag_3                                           ?        255   \n",
       "number_diagnoses                                 1          9   \n",
       "max_glu_serum                                 None       None   \n",
       "A1Cresult                                     None       None   \n",
       "metformin                                       No         No   \n",
       "repaglinide                                     No         No   \n",
       "nateglinide                                     No         No   \n",
       "chlorpropamide                                  No         No   \n",
       "glimepiride                                     No         No   \n",
       "acetohexamide                                   No         No   \n",
       "glipizide                                       No         No   \n",
       "glyburide                                       No         No   \n",
       "tolbutamide                                     No         No   \n",
       "pioglitazone                                    No         No   \n",
       "rosiglitazone                                   No         No   \n",
       "acarbose                                        No         No   \n",
       "miglitol                                        No         No   \n",
       "troglitazone                                    No         No   \n",
       "tolazamide                                      No         No   \n",
       "examide                                         No         No   \n",
       "citoglipton                                     No         No   \n",
       "insulin                                         No         Up   \n",
       "glyburide-metformin                             No         No   \n",
       "glipizide-metformin                             No         No   \n",
       "glimepiride-pioglitazone                        No         No   \n",
       "metformin-rosiglitazone                         No         No   \n",
       "metformin-pioglitazone                          No         No   \n",
       "change                                          No         Ch   \n",
       "diabetesMed                                     No        Yes   \n",
       "readmitted                                      NO        >30   \n",
       "\n",
       "                                        2          3          4          5  \\\n",
       "encounter_id                        64410     500364      16680      35754   \n",
       "patient_nbr                      86047875   82442376   42519267   82637451   \n",
       "race                      AfricanAmerican  Caucasian  Caucasian  Caucasian   \n",
       "gender                             Female       Male       Male       Male   \n",
       "age                               [20-30)    [30-40)    [40-50)    [50-60)   \n",
       "weight                                  ?          ?          ?          ?   \n",
       "admission_type_id                       1          1          1          2   \n",
       "discharge_disposition_id                1          1          1          1   \n",
       "admission_source_id                     7          7          7          2   \n",
       "time_in_hospital                        2          2          1          3   \n",
       "payer_code                              ?          ?          ?          ?   \n",
       "medical_specialty                       ?          ?          ?          ?   \n",
       "num_lab_procedures                     11         44         51         31   \n",
       "num_procedures                          5          1          0          6   \n",
       "num_medications                        13         16          8         16   \n",
       "number_outpatient                       2          0          0          0   \n",
       "number_emergency                        0          0          0          0   \n",
       "number_inpatient                        1          0          0          0   \n",
       "diag_1                                648          8        197        414   \n",
       "diag_2                                250     250.43        157        411   \n",
       "diag_3                                V27        403        250        250   \n",
       "number_diagnoses                        6          7          5          9   \n",
       "max_glu_serum                        None       None       None       None   \n",
       "A1Cresult                            None       None       None       None   \n",
       "metformin                              No         No         No         No   \n",
       "repaglinide                            No         No         No         No   \n",
       "nateglinide                            No         No         No         No   \n",
       "chlorpropamide                         No         No         No         No   \n",
       "glimepiride                            No         No         No         No   \n",
       "acetohexamide                          No         No         No         No   \n",
       "glipizide                          Steady         No     Steady         No   \n",
       "glyburide                              No         No         No         No   \n",
       "tolbutamide                            No         No         No         No   \n",
       "pioglitazone                           No         No         No         No   \n",
       "rosiglitazone                          No         No         No         No   \n",
       "acarbose                               No         No         No         No   \n",
       "miglitol                               No         No         No         No   \n",
       "troglitazone                           No         No         No         No   \n",
       "tolazamide                             No         No         No         No   \n",
       "examide                                No         No         No         No   \n",
       "citoglipton                            No         No         No         No   \n",
       "insulin                                No         Up     Steady     Steady   \n",
       "glyburide-metformin                    No         No         No         No   \n",
       "glipizide-metformin                    No         No         No         No   \n",
       "glimepiride-pioglitazone               No         No         No         No   \n",
       "metformin-rosiglitazone                No         No         No         No   \n",
       "metformin-pioglitazone                 No         No         No         No   \n",
       "change                                 No         Ch         Ch         No   \n",
       "diabetesMed                           Yes        Yes        Yes        Yes   \n",
       "readmitted                             NO         NO         NO        >30   \n",
       "\n",
       "                                  6          7          8                 9  \n",
       "encounter_id                  55842      63768      12522             15738  \n",
       "patient_nbr                84259809  114882984   48330783          63555939  \n",
       "race                      Caucasian  Caucasian  Caucasian         Caucasian  \n",
       "gender                         Male       Male     Female            Female  \n",
       "age                         [60-70)    [70-80)    [80-90)          [90-100)  \n",
       "weight                            ?          ?          ?                 ?  \n",
       "admission_type_id                 3          1          2                 3  \n",
       "discharge_disposition_id          1          1          1                 3  \n",
       "admission_source_id               2          7          4                 4  \n",
       "time_in_hospital                  4          5         13                12  \n",
       "payer_code                        ?          ?          ?                 ?  \n",
       "medical_specialty                 ?          ?          ?  InternalMedicine  \n",
       "num_lab_procedures               70         73         68                33  \n",
       "num_procedures                    1          0          2                 3  \n",
       "num_medications                  21         12         28                18  \n",
       "number_outpatient                 0          0          0                 0  \n",
       "number_emergency                  0          0          0                 0  \n",
       "number_inpatient                  0          0          0                 0  \n",
       "diag_1                          414        428        398               434  \n",
       "diag_2                          411        492        427               198  \n",
       "diag_3                          V45        250         38               486  \n",
       "number_diagnoses                  7          8          8                 8  \n",
       "max_glu_serum                  None       None       None              None  \n",
       "A1Cresult                      None       None       None              None  \n",
       "metformin                    Steady         No         No                No  \n",
       "repaglinide                      No         No         No                No  \n",
       "nateglinide                      No         No         No                No  \n",
       "chlorpropamide                   No         No         No                No  \n",
       "glimepiride                  Steady         No         No                No  \n",
       "acetohexamide                    No         No         No                No  \n",
       "glipizide                        No         No     Steady                No  \n",
       "glyburide                        No     Steady         No                No  \n",
       "tolbutamide                      No         No         No                No  \n",
       "pioglitazone                     No         No         No                No  \n",
       "rosiglitazone                    No         No         No            Steady  \n",
       "acarbose                         No         No         No                No  \n",
       "miglitol                         No         No         No                No  \n",
       "troglitazone                     No         No         No                No  \n",
       "tolazamide                       No         No         No                No  \n",
       "examide                          No         No         No                No  \n",
       "citoglipton                      No         No         No                No  \n",
       "insulin                      Steady         No     Steady            Steady  \n",
       "glyburide-metformin              No         No         No                No  \n",
       "glipizide-metformin              No         No         No                No  \n",
       "glimepiride-pioglitazone         No         No         No                No  \n",
       "metformin-rosiglitazone          No         No         No                No  \n",
       "metformin-pioglitazone           No         No         No                No  \n",
       "change                           Ch         No         Ch                Ch  \n",
       "diabetesMed                     Yes        Yes        Yes               Yes  \n",
       "readmitted                       NO        >30         NO                NO  "
      ]
     },
     "execution_count": 3,
     "metadata": {},
     "output_type": "execute_result"
    }
   ],
   "source": [
    "# Printing the first 10 columns\n",
    "df.head(10).T"
   ]
  },
  {
   "cell_type": "markdown",
   "id": "0f8551b1",
   "metadata": {
    "id": "ZdFB69D9BUZB",
    "papermill": {
     "duration": 0.010147,
     "end_time": "2024-03-06T05:24:05.554489",
     "exception": false,
     "start_time": "2024-03-06T05:24:05.544342",
     "status": "completed"
    },
    "tags": []
   },
   "source": [
    "You can see that some values ​​are represented with '?' (null), so we'll need to handle those missing values. But it will still be necessary to check in more detail which values ​​each variable can assume in order not to miss any information."
   ]
  },
  {
   "cell_type": "markdown",
   "id": "5701b0e7",
   "metadata": {
    "id": "FG7Yvs2-Fegx",
    "papermill": {
     "duration": 0.010223,
     "end_time": "2024-03-06T05:24:05.575046",
     "exception": false,
     "start_time": "2024-03-06T05:24:05.564823",
     "status": "completed"
    },
    "tags": []
   },
   "source": [
    "## Getting unique values per column"
   ]
  },
  {
   "cell_type": "code",
   "execution_count": 4,
   "id": "9e497555",
   "metadata": {
    "_kg_hide-output": true,
    "execution": {
     "iopub.execute_input": "2024-03-06T05:24:05.597383Z",
     "iopub.status.busy": "2024-03-06T05:24:05.597031Z",
     "iopub.status.idle": "2024-03-06T05:24:05.835028Z",
     "shell.execute_reply": "2024-03-06T05:24:05.834024Z"
    },
    "id": "ig0mcevfGBmv",
    "papermill": {
     "duration": 0.251643,
     "end_time": "2024-03-06T05:24:05.837141",
     "exception": false,
     "start_time": "2024-03-06T05:24:05.585498",
     "status": "completed"
    },
    "tags": []
   },
   "outputs": [
    {
     "name": "stdout",
     "output_type": "stream",
     "text": [
      "encounter_id = [  2278392    149190     64410 ... 443854148 443857166 443867222]\n",
      "patient_nbr = [  8222157  55629189  86047875 ... 140199494 120975314 175429310]\n",
      "race = ['Caucasian' 'AfricanAmerican' '?' 'Other' 'Asian' 'Hispanic']\n",
      "gender = ['Female' 'Male' 'Unknown/Invalid']\n",
      "age = ['[0-10)' '[10-20)' '[20-30)' '[30-40)' '[40-50)' '[50-60)' '[60-70)'\n",
      " '[70-80)' '[80-90)' '[90-100)']\n",
      "weight = ['?' '[75-100)' '[50-75)' '[0-25)' '[100-125)' '[25-50)' '[125-150)'\n",
      " '[175-200)' '[150-175)' '>200']\n",
      "admission_type_id = [6 1 2 3 4 5 8 7]\n",
      "discharge_disposition_id = [25  1  3  6  2  5 11  7 10  4 14 18  8 13 12 16 17 22 23  9 20 15 24 28\n",
      " 19 27]\n",
      "admission_source_id = [ 1  7  2  4  5  6 20  3 17  8  9 14 10 22 11 25 13]\n",
      "time_in_hospital = [ 1  3  2  4  5 13 12  9  7 10  6 11  8 14]\n",
      "payer_code = ['?' 'MC' 'MD' 'HM' 'UN' 'BC' 'SP' 'CP' 'SI' 'DM' 'CM' 'CH' 'PO' 'WC' 'OT'\n",
      " 'OG' 'MP' 'FR']\n",
      "medical_specialty = ['Pediatrics-Endocrinology' '?' 'InternalMedicine'\n",
      " 'Family/GeneralPractice' 'Cardiology' 'Surgery-General' 'Orthopedics'\n",
      " 'Gastroenterology' 'Surgery-Cardiovascular/Thoracic' 'Nephrology'\n",
      " 'Orthopedics-Reconstructive' 'Psychiatry' 'Emergency/Trauma'\n",
      " 'Pulmonology' 'Surgery-Neuro' 'Obsterics&Gynecology-GynecologicOnco'\n",
      " 'ObstetricsandGynecology' 'Pediatrics' 'Hematology/Oncology'\n",
      " 'Otolaryngology' 'Surgery-Colon&Rectal' 'Pediatrics-CriticalCare'\n",
      " 'Endocrinology' 'Urology' 'Psychiatry-Child/Adolescent'\n",
      " 'Pediatrics-Pulmonology' 'Neurology' 'Anesthesiology-Pediatric'\n",
      " 'Radiology' 'Pediatrics-Hematology-Oncology' 'Psychology' 'Podiatry'\n",
      " 'Gynecology' 'Oncology' 'Pediatrics-Neurology' 'Surgery-Plastic'\n",
      " 'Surgery-Thoracic' 'Surgery-PlasticwithinHeadandNeck' 'Ophthalmology'\n",
      " 'Surgery-Pediatric' 'Pediatrics-EmergencyMedicine'\n",
      " 'PhysicalMedicineandRehabilitation' 'InfectiousDiseases' 'Anesthesiology'\n",
      " 'Rheumatology' 'AllergyandImmunology' 'Surgery-Maxillofacial'\n",
      " 'Pediatrics-InfectiousDiseases' 'Pediatrics-AllergyandImmunology'\n",
      " 'Dentistry' 'Surgeon' 'Surgery-Vascular' 'Osteopath'\n",
      " 'Psychiatry-Addictive' 'Surgery-Cardiovascular' 'PhysicianNotFound'\n",
      " 'Hematology' 'Proctology' 'Obstetrics' 'SurgicalSpecialty' 'Radiologist'\n",
      " 'Pathology' 'Dermatology' 'SportsMedicine' 'Speech' 'Hospitalist'\n",
      " 'OutreachServices' 'Cardiology-Pediatric' 'Perinatology'\n",
      " 'Neurophysiology' 'Endocrinology-Metabolism' 'DCPTEAM' 'Resident']\n",
      "num_lab_procedures = [ 41  59  11  44  51  31  70  73  68  33  47  62  60  55  49  75  45  29\n",
      "  35  42  66  36  19  64  25  53  52  87  27  37  46  28  48  72  10   2\n",
      "  65  67  40  54  58  57  43  32  83  34  39  69  38  56  22  96  78  61\n",
      "  88  50   1  18  82   9  63  24  71  77  81  76  90  93   3 103  13  80\n",
      "  85  16  15  12  30  23  17  21  79  26   5  95  97  84  14  74 105  86\n",
      "  98  20   6  94   8 102 100   7  89  91  92   4 101  99 114 113 111 129\n",
      " 107 108 106 104 109 120 132 121 126 118]\n",
      "num_procedures = [0 5 1 6 2 3 4]\n",
      "num_medications = [ 1 18 13 16  8 21 12 28 17 11 15 31  2 23 19  7 20 14 10 22  9 27 25  4\n",
      " 32  6 30 26 24 33  5 39  3 29 61 40 46 41 36 34 35 50 43 42 37 51 38 45\n",
      " 54 52 49 62 55 47 44 53 48 57 59 56 60 63 58 70 67 64 69 65 68 66 81 79\n",
      " 75 72 74]\n",
      "number_outpatient = [ 0  2  1  5  7  9  3  8  4 12 11  6 20 15 10 13 14 16 21 35 17 29 36 18\n",
      " 19 27 22 24 42 39 34 26 33 25 23 28 37 38 40]\n",
      "number_emergency = [ 0  1  2  4  3  9  5  7  6  8 22 25 10 13 42 16 11 28 15 14 18 12 21 20\n",
      " 19 46 76 37 64 63 54 24 29]\n",
      "number_inpatient = [ 0  1  2  3  6  5  4  7  8  9 15 10 11 14 12 13 17 16 21 18 19]\n",
      "diag_1 = ['250.83' '276' '648' '8' '197' '414' '428' '398' '434' '250.7' '157'\n",
      " '518' '999' '410' '682' '402' '737' '572' 'V57' '189' '786' '427' '996'\n",
      " '277' '584' '462' '473' '411' '174' '486' '998' '511' '432' '626' '295'\n",
      " '196' '250.6' '618' '182' '845' '423' '808' '250.4' '722' '403' '250.11'\n",
      " '784' '707' '440' '151' '715' '997' '198' '564' '812' '38' '590' '556'\n",
      " '578' '250.32' '433' 'V58' '569' '185' '536' '255' '250.13' '599' '558'\n",
      " '574' '491' '560' '244' '250.03' '577' '730' '188' '824' '250.8' '332'\n",
      " '562' '291' '296' '510' '401' '263' '438' '70' '250.02' '493' '642' '625'\n",
      " '571' '738' '593' '250.42' '807' '456' '446' '575' '250.41' '820' '515'\n",
      " '780' '250.22' '995' '235' '250.82' '721' '787' '162' '724' '282' '514'\n",
      " 'V55' '281' '250.33' '530' '466' '435' '250.12' 'V53' '789' '566' '822'\n",
      " '191' '557' '733' '455' '711' '482' '202' '280' '553' '225' '154' '441'\n",
      " '250.81' '349' '?' '962' '592' '507' '386' '156' '200' '728' '348' '459'\n",
      " '426' '388' '607' '337' '82' '531' '596' '288' '656' '573' '492' '220'\n",
      " '516' '210' '922' '286' '885' '958' '661' '969' '250.93' '227' '112'\n",
      " '404' '823' '532' '416' '346' '535' '453' '250' '595' '211' '303'\n",
      " '250.01' '852' '218' '782' '540' '457' '285' '431' '340' '550' '54' '351'\n",
      " '601' '723' '555' '153' '443' '380' '204' '424' '241' '358' '694' '331'\n",
      " '345' '681' '447' '290' '158' '579' '436' '335' '309' '654' '805' '799'\n",
      " '292' '183' '78' '851' '458' '586' '311' '892' '305' '293' '415' '591'\n",
      " '794' '803' '79' '655' '429' '278' '658' '598' '729' '585' '444' '604'\n",
      " '727' '214' '552' '284' '680' '708' '41' '644' '481' '821' '413' '437'\n",
      " '968' '756' '632' '359' '275' '512' '781' '420' '368' '522' '294' '825'\n",
      " '135' '304' '320' '250.31' '669' '868' '496' '250.43' '826' '567' '3'\n",
      " '203' '53' '251' '565' '161' '495' '49' '250.1' '297' '663' '576' '355'\n",
      " '850' '287' '250.2' '611' '840' '350' '726' '537' '620' '180' '366' '783'\n",
      " '11' '751' '716' '250.3' '199' '464' '580' '836' '664' '283' '813' '966'\n",
      " '289' '965' '184' '480' '608' '333' '972' '212' '117' '788' '924' '959'\n",
      " '621' '238' '785' '714' '942' '250.23' '710' '47' '933' '508' '478' '844'\n",
      " '7' '736' '233' '42' '250.5' '397' '395' '201' '421' '253' '250.92' '600'\n",
      " '494' '977' '39' '659' '312' '614' '647' '652' '646' '274' '861' '425'\n",
      " '527' '451' '485' '217' '250.53' '442' '970' '193' '160' '322' '581'\n",
      " '475' '623' '374' '582' '568' '465' '801' '237' '376' '150' '461' '913'\n",
      " '226' '617' '987' '641' '298' '790' '336' '362' '228' '513' '383' '746'\n",
      " '353' '911' '506' '873' '155' '860' '534' '802' '141' 'V45' '396' '310'\n",
      " '341' '242' '719' '239' '533' '616' '519' '301' 'V66' '5' '989' '230'\n",
      " '385' '300' '853' '871' '570' '848' '463' '9' '934' '250.21' '236' '361'\n",
      " '594' '501' '810' '643' '430' '528' '205' '791' '983' '992' '490' '172'\n",
      " '171' '622' '306' '863' '864' '474' '660' '759' '356' '634' '967' '551'\n",
      " '695' '187' '732' '747' '323' '308' '370' '252' '152' '846' '164' '365'\n",
      " '718' '48' '266' '720' '94' '344' '797' '170' '878' '904' 'V56' '882'\n",
      " '843' '709' '973' '454' '686' '939' '487' '229' '991' '483' '357' '692'\n",
      " '796' '693' '935' '936' '800' '920' 'V26' '261' '307' '262' '250.9' '831'\n",
      " '145' '223' 'V71' '839' '685' 'V54' '35' '34' '179' '964' '136' '324'\n",
      " '389' '815' '334' '143' '526' '588' '192' 'V67' '394' '917' '88' '219'\n",
      " '325' '792' '717' '994' '990' '793' '207' '637' '195' '373' '847' '827'\n",
      " '31' '891' '814' 'V60' '703' '865' '352' '627' '378' '342' '886' '369'\n",
      " '745' '705' '816' '541' '986' '610' '633' '640' '753' '173' '835' '379'\n",
      " '445' '272' '382' '945' '619' '881' '250.52' '866' '405' '916' '215'\n",
      " '893' '75' '671' '928' '906' '897' '725' '867' '115' '890' '734' '521'\n",
      " '674' '470' '834' '146' '696' '524' '980' '691' '384' '142' '879'\n",
      " '250.51' '246' '208' '448' '955' '653' '149' '245' '735' '883' '854'\n",
      " '952' '838' '194' 'V43' '163' '216' '147' '354' '27' '477' '318' '880'\n",
      " '921' '377' '471' '683' '175' '602' '250.91' '982' '706' '375' '417'\n",
      " '131' '347' '870' '148' '862' '61' '817' '914' '360' '684' '314' 'V63'\n",
      " '36' '57' '240' '915' '971' '795' '988' '452' '963' '327' '731' '842'\n",
      " 'V25' '645' '665' '110' '944' '603' '923' '412' '363' '957' '976' '698'\n",
      " '299' '700' '273' '974' '97' '529' '66' '98' '605' '941' '52' '806' '84'\n",
      " '271' '837' '657' '895' '338' '523' '542' '114' '543' '372' 'V70' 'E909'\n",
      " '583' 'V07' '422' '615' '279' '500' '903' '919' '875' '381' '804' '704'\n",
      " '23' '58' '649' '832' '133' '975' '833' '391' '690' '10' 'V51']\n",
      "diag_2 = ['?' '250.01' '250' '250.43' '157' '411' '492' '427' '198' '403' '288'\n",
      " '998' '507' '174' '425' '456' '401' '715' '496' '428' '585' '250.02'\n",
      " '410' '999' '996' '135' '244' '41' '571' '276' '997' '599' '424' '491'\n",
      " '553' '707' '286' '440' '493' '242' '70' 'V45' '250.03' '357' '511' '196'\n",
      " '396' '197' '414' '250.52' '577' '535' '413' '285' '53' '780' '518' '150'\n",
      " '566' '250.6' '867' '486' 'V15' '8' '788' '340' '574' '581' '228' '530'\n",
      " '250.82' '786' '294' '567' '785' '512' '305' '729' '250.51' '280' '648'\n",
      " '560' '618' '444' '38' 'V10' '578' '277' '781' '250.42' '278' '426' '584'\n",
      " '462' '402' '153' '272' '733' '34' '881' '203' '250.41' '250.13' '293'\n",
      " '245' '250.12' '558' '787' '342' '573' '626' '303' '250.53' '458' '710'\n",
      " '415' 'V42' '284' '569' '759' '682' '112' '292' '435' '290' '250.93'\n",
      " '642' '536' '398' '319' '711' 'E878' '446' '255' 'V44' '250.7' '784'\n",
      " '300' '562' '162' '287' '447' '789' '790' '591' '200' '154' '304' '117'\n",
      " '847' '852' '250.83' '250.11' '816' '575' '416' '412' '441' '515' '372'\n",
      " '482' '382' 'V65' '572' '283' '78' '250.81' '576' '432' '595' '295' 'V12'\n",
      " '204' '466' '721' '434' '590' '271' '813' '368' '227' '783' '250.5' '258'\n",
      " '253' '309' '250.91' '519' '333' '459' '250.92' '250.4' '179' '420' '345'\n",
      " '433' '661' '537' '205' '722' '405' '437' '714' '211' 'E812' '263' '202'\n",
      " '397' '250.23' 'E932' '201' '301' '723' '614' '568' '861' 'V57' '724'\n",
      " '189' '297' '453' 'E888' '730' '354' '451' '738' 'E939' '805' 'V43' '155'\n",
      " '910' '218' '358' '220' 'E937' '583' '958' '794' '564' '436' '250.22'\n",
      " '620' '621' '331' '617' '596' '314' '378' '250.8' '625' '478' '731' '172'\n",
      " '404' '681' '470' '279' '281' '531' '443' '799' '337' '311' '719' 'E944'\n",
      " '423' 'E870' '465' 'E849' '782' '481' '480' 'V23' '199' '79' '438' '348'\n",
      " '42' 'E950' '473' '627' '726' '54' '490' '317' '332' '508' '369' '600'\n",
      " '349' '485' '208' '922' '431' '296' 'E934' '753' 'E935' '386' '728' '607'\n",
      " 'E915' '344' '716' '289' '191' '873' '850' '611' '377' '352' '616' 'V17'\n",
      " '136' '455' '933' 'E885' '860' '513' '603' '484' '223' 'V72' '291' '151'\n",
      " 'V58' '550' '510' '891' '185' '592' '791' '138' '598' '336' '362' '217'\n",
      " '825' '298' '821' 'E880' '343' '429' 'E879' '579' '225' '250.9' 'V49'\n",
      " '696' '233' '658' '969' '275' '250.1' '601' '704' '808' 'E890' 'V18'\n",
      " '920' '380' '570' 'E817' '359' '812' '274' 'V14' '324' '758' 'V66' '911'\n",
      " 'E931' 'E924' '593' '792' '727' 'V46' '394' '532' 'V64' '557' '864' '718'\n",
      " 'E942' '807' '604' '924' '820' '580' '273' '241' '282' '824' 'V61' '646'\n",
      " '701' '736' '565' '383' '250.2' 'E947' '452' '872' '905' 'E930' '921'\n",
      " '131' '448' '389' '421' '214' '705' '494' '752' '623' '9' '299' '959'\n",
      " '365' '967' 'E858' '40' '691' '909' '5' '814' '746' '250.31' '556' '680'\n",
      " '745' '351' '306' '110' '695' '552' '346' '918' '882' '947' '520' '188'\n",
      " '31' '356' '737' 'V08' '322' '182' '517' '974' 'E929' 'V53' '912' '252'\n",
      " '608' '516' 'E933' '94' '702' '923' '594' '647' '111' '934' '430' '487'\n",
      " '709' '796' '156' '977' '915' '756' '840' '341' '259' '693' '725' 'V62'\n",
      " '528' '683' '953' '457' '501' 'E900' 'V09' '522' '919' '461' '506' '193'\n",
      " '483' 'E936' '717' '802' '335' 'V54' '320' '945' '906' '239' '454' '826'\n",
      " '823' 'E941' '226' '795' '684' '844' '250.33' '308' '615' '588' '712'\n",
      " '663' '706' '833' '741' '713' '533' 'E884' '586' '555' '755' 'E928' '742'\n",
      " '869' '962' 'V11' '543' '373' '870' '913' '152' '810' '965' '907' '908'\n",
      " '995' '845' '474' '442' '751' '323' '472' '464' '686' '250.32' '540'\n",
      " '251' '811' '652' '659' '851' '422' '815' '307' '325' '463' '992' '692'\n",
      " '521' '917' 'E965' '524' '916' 'E813' '173' '238' '137' '514' '312' '837'\n",
      " '355' '980' '622' '475' '500' '754' '261' '801' '868' '968' '381' '11'\n",
      " '250.21' '694' '610' '734' 'E814' '310' '130' '246' '892' '846' '634'\n",
      " '75' 'E927' 'E905' '183' '379' 'E917' '163' 'E868' '495' '747' '989'\n",
      " 'E854' '240' '832' '605' '602' '644' 'V16' '35' 'V70' '376' '266' 'E918'\n",
      " '619' '477' '656' '46' '883' '171' 'V13' '698' '842' 'E850' '800' '269'\n",
      " '664' 'E887' '952' '164' 'E881' '527' '685' '366' '836' '27' 'V63' '865'\n",
      " '793' '232' '990' '52' '831' '327' '542' '806' '972' '862' 'E829' 'E919'\n",
      " '944' 'E916' '963' '316' '645' '347' 'V85' '374' 'V02' '748' '256' '186'\n",
      " '866' '975' '96' '395' '262' 'E819' '654' '994' '318' 'E826' '879' '674'\n",
      " '641' '822' '145' '797' '353' 'E938' 'E816' '948' '987' '99' '192'\n",
      " '250.3' 'E906' '534' '115' 'E818' 'E980' '360' '338' '529' '871' '750'\n",
      " '212' '302' '955' '141' '88' 'V25' '215' '350' 'V50' 'V03' 'E853' 'E968'\n",
      " 'E882' '140' '703' '991' '893' 'E821' '235' 'V69' '670' '195' 'V55' '388'\n",
      " '268' '894' '114' '260' '853' '7' '880' 'V86' '180' 'E945' '523' '863'\n",
      " '649' '270' '665' '460' '942' '364' '66' 'E883' '123' '884' 'V60' '843'\n",
      " '927']\n",
      "diag_3 = ['?' '255' 'V27' '403' '250' 'V45' '38' '486' '996' '197' '250.6' '427'\n",
      " '627' '414' '416' '714' '428' '582' 'V43' '250.01' '263' '250.42' '276'\n",
      " '482' '401' '250.41' '585' '781' '278' '998' '568' '682' '618' '250.02'\n",
      " '305' '707' '496' '599' '715' '424' '518' '553' '794' '411' 'V42' '531'\n",
      " '511' '490' '562' '250.8' '250.7' '250.52' '784' '491' '581' '420' '8'\n",
      " '724' '730' '789' '131' '250.82' '999' '41' '493' '250.03' '753' '786'\n",
      " '529' 'E888' '425' '595' '303' '560' '711' '492' '332' '296' '438' '362'\n",
      " '250.4' '654' '244' 'V70' '737' '625' '681' '250.51' '404' 'V10' '810'\n",
      " '280' '440' '785' '588' '569' '272' '997' '250.43' '918' '584' '54' '788'\n",
      " '426' '722' '250.92' '196' '461' '535' '787' '891' '284' '458' '648'\n",
      " '780' '182' '285' '593' '413' '664' '564' '201' '356' 'V15' '292' '782'\n",
      " '473' '455' 'E932' '357' '348' '294' '250.23' '459' 'E878' '437' '733'\n",
      " '507' '525' '250.53' '397' '572' '805' '453' '331' '736' '402' '591'\n",
      " '576' '465' '533' '703' '349' '315' '658' '608' '578' '716' '382' '300'\n",
      " '282' '571' '536' '596' '287' '644' 'V11' '558' 'E885' '162' '198' '218'\n",
      " '412' '396' 'V14' '570' '433' 'E934' '882' '288' '577' '443' '729' '836'\n",
      " '295' '799' '281' '304' '153' '410' '616' '250.83' '601' '291' '75' '512'\n",
      " '660' '250.5' '598' '337' '574' '653' 'V58' '311' '415' '386' '602' '790'\n",
      " '112' '873' '620' '436' '70' '155' '138' '663' '530' '710' '42' '342'\n",
      " '250.91' 'E884' '515' '307' '704' '728' '731' '583' '238' '441' '293'\n",
      " '573' '532' '290' '594' '319' '250.13' '250.12' '519' '346' '380' '135'\n",
      " '642' '698' '924' '905' 'E933' '555' '309' 'E879' '286' '565' '752' '580'\n",
      " '446' '444' '344' '252' '35' '813' '394' '301' '575' '258' 'V17' '802'\n",
      " '435' '746' 'V12' '709' '881' 'E935' '139' '250.81' '718' '365' '202'\n",
      " '334' '185' '398' 'V44' '517' 'E849' '614' '466' '626' '250.9' '368'\n",
      " '605' '883' '289' '478' '617' '429' '442' 'V25' '866' '610' '557' '959'\n",
      " 'E942' '94' '920' '345' '313' '379' '79' '516' '586' '821' '600' '242'\n",
      " '373' '592' 'V64' '487' '253' '706' 'E947' '117' '340' 'E950' '656'\n",
      " 'E949' '590' 'V09' '250.22' '934' '694' '203' '250.93' '995' '726' '923'\n",
      " '958' '275' 'E929' '211' 'V18' 'V66' '199' '665' '53' '279' '522' '791'\n",
      " '890' '456' 'E938' 'E816' '122' '721' 'V65' '136' '480' '423' 'E920'\n",
      " '793' '647' '537' '351' '845' '336' '274' '719' '945' '434' '494' '227'\n",
      " '157' '208' '174' 'V57' '812' '734' '150' 'V23' '447' '692' '228' 'V16'\n",
      " '756' '405' 'E928' '823' '552' '528' '389' '240' '454' '792' '366' 'E939'\n",
      " '907' '270' '310' '266' '387' 'E931' '783' '245' '607' '355' 'E930' '705'\n",
      " '372' '369' '611' '283' 'V46' '110' '867' 'E956' '251' '250.2' '820'\n",
      " '712' '695' '567' '343' '723' 'V08' '273' '623' '807' '451' '495' '701'\n",
      " '34' 'V53' '314' '472' 'E945' '11' '189' '534' '354' '333' 'V54' '277'\n",
      " '659' '708' '452' '655' '816' '670' '621' '246' '953' '865' 'E817' '646'\n",
      " '151' '378' '78' '298' '840' '641' '521' '745' '619' '912' '506' 'E904'\n",
      " '259' 'E870' 'E980' '383' '204' '696' '566' '727' '47' 'E943' '358' '191'\n",
      " '965' '921' '432' '27' 'E861' '758' '477' '524' '751' '652' '556' '188'\n",
      " '825' '919' '732' '908' '951' '962' '685' 'E850' 'E944' '527' '341' '693'\n",
      " '250.1' 'V49' '860' '323' 'V55' '579' '508' '969' '205' '462' 'E880'\n",
      " '680' '697' '826' '200' '457' '717' '738' '742' '735' '235' '308' '725'\n",
      " '241' '824' '464' '260' '917' '239' '661' '892' '261' 'E883' '943' '744'\n",
      " 'E936' '796' '318' '967' '350' '854' 'E905' '9' '741' 'E941' '170' '643'\n",
      " '317' '759' '909' 'V22' '831' '713' '180' '801' '360' '359' '501' '335'\n",
      " '250.11' '306' '811' '690' 'V02' '271' '214' '847' '543' 'V63' '906'\n",
      " '842' '686' '445' '808' '861' 'E852' '220' 'E887' 'E858' '915' '970'\n",
      " '256' '747' '395' '243' '815' '481' '5' 'E927' '297' '299' '851' '864'\n",
      " '922' '384' 'E876' '225' '158' 'E937' '871' '88' '966' 'E917' 'E812'\n",
      " 'V62' 'E924' '604' '233' 'E916' '377' '797' 'V72' '172' '7' '421' '852'\n",
      " 'E819' '972' '916' '956' '3' 'E965' '173' '193' '154' '347' '862' '250.3'\n",
      " '987' '470' '262' 'E855' '161' '115' '179' '910' '312' '17' '460' '265'\n",
      " '66' '163' 'V60' '870' 'E906' '514' '944' '844' '417' '152' '183' '991'\n",
      " '216' '385' '164' '935' '510' '814' '485' '850' '250.21' 'E919' '872'\n",
      " '195' '431' '597' '933' '171' '884' '156' '868' '483' 'E815' '542' 'V61'\n",
      " '853' '374' 'E881' 'E882' 'E822' '192' '754' '327' '523' '500' 'V85'\n",
      " '992' '657' '684' '603' 'E826' '550' '913' '376' '755' '361' '186' '720'\n",
      " '250.31' '674' '911' 'E813' '226' '365.44' 'E818' '146' '955' 'E894'\n",
      " '475' 'V13' '880' '930' 'E915' '381' '132' '353' '795' '893' 'V01' 'E853'\n",
      " '863' '540' 'E828' '430' '800' 'E865' '148' 'E946' '822' '879' '848'\n",
      " 'V86' 'V03' '338' '989' '388' 'E966' '111' 'E922' '123' '757' 'E901'\n",
      " '141' '268' 'E892' '649' '702' '948' '223' '484' 'E886' '838' '928' '236'\n",
      " '624' '837' 'E987' 'V07' '841' '622' 'E912' 'E955' '463' 'V06' 'E864'\n",
      " '217' '877' '391' 'E825' '952' '669' '875' 'E900' '215' '538' '980' '834'\n",
      " '448' '175' '49' '876' '230' '57' 'E854' '942' '14' '750' '370' '671'\n",
      " '971']\n",
      "number_diagnoses = [ 1  9  6  7  5  8  3  4  2 16 12 13 15 10 11 14]\n",
      "max_glu_serum = ['None' '>300' 'Norm' '>200']\n",
      "A1Cresult = ['None' '>7' '>8' 'Norm']\n",
      "metformin = ['No' 'Steady' 'Up' 'Down']\n",
      "repaglinide = ['No' 'Up' 'Steady' 'Down']\n",
      "nateglinide = ['No' 'Steady' 'Down' 'Up']\n",
      "chlorpropamide = ['No' 'Steady' 'Down' 'Up']\n",
      "glimepiride = ['No' 'Steady' 'Down' 'Up']\n",
      "acetohexamide = ['No' 'Steady']\n",
      "glipizide = ['No' 'Steady' 'Up' 'Down']\n",
      "glyburide = ['No' 'Steady' 'Up' 'Down']\n",
      "tolbutamide = ['No' 'Steady']\n",
      "pioglitazone = ['No' 'Steady' 'Up' 'Down']\n",
      "rosiglitazone = ['No' 'Steady' 'Up' 'Down']\n",
      "acarbose = ['No' 'Steady' 'Up' 'Down']\n",
      "miglitol = ['No' 'Steady' 'Down' 'Up']\n",
      "troglitazone = ['No' 'Steady']\n",
      "tolazamide = ['No' 'Steady' 'Up']\n",
      "examide = ['No']\n",
      "citoglipton = ['No']\n",
      "insulin = ['No' 'Up' 'Steady' 'Down']\n",
      "glyburide-metformin = ['No' 'Steady' 'Down' 'Up']\n",
      "glipizide-metformin = ['No' 'Steady']\n",
      "glimepiride-pioglitazone = ['No' 'Steady']\n",
      "metformin-rosiglitazone = ['No' 'Steady']\n",
      "metformin-pioglitazone = ['No' 'Steady']\n",
      "change = ['No' 'Ch']\n",
      "diabetesMed = ['No' 'Yes']\n",
      "readmitted = ['NO' '>30' '<30']\n"
     ]
    }
   ],
   "source": [
    "for col in df:\n",
    "    print(f\"{col} = {df[col].unique()}\")"
   ]
  },
  {
   "cell_type": "markdown",
   "id": "cebbb445",
   "metadata": {
    "id": "IQczQK0HGU7B",
    "papermill": {
     "duration": 0.010731,
     "end_time": "2024-03-06T05:24:05.859215",
     "exception": false,
     "start_time": "2024-03-06T05:24:05.848484",
     "status": "completed"
    },
    "tags": []
   },
   "source": [
    "\n",
    "\n",
    "We then notice that the \"gender\" variable will need to be treated as it also has invalid values.\n",
    "```\n",
    "gender = ['Female' 'Male' 'Unknown/Invalid']\n",
    "```\n",
    "So we will check it individually.\n",
    "\n",
    "In addition, there are some medications that do not provide us with much information because they all have the same value.\n",
    "\n",
    "```\n",
    "examide = ['No']\n",
    "citoglipton = ['No']\n",
    "```\n",
    "\n"
   ]
  },
  {
   "cell_type": "markdown",
   "id": "aad34861",
   "metadata": {
    "id": "gbrfBT0EBkdA",
    "papermill": {
     "duration": 0.010593,
     "end_time": "2024-03-06T05:24:05.880682",
     "exception": false,
     "start_time": "2024-03-06T05:24:05.870089",
     "status": "completed"
    },
    "tags": []
   },
   "source": [
    "## Checking for null values"
   ]
  },
  {
   "cell_type": "code",
   "execution_count": 5,
   "id": "6927104d",
   "metadata": {
    "_kg_hide-output": false,
    "execution": {
     "iopub.execute_input": "2024-03-06T05:24:05.903758Z",
     "iopub.status.busy": "2024-03-06T05:24:05.903126Z",
     "iopub.status.idle": "2024-03-06T05:24:06.133500Z",
     "shell.execute_reply": "2024-03-06T05:24:06.132182Z"
    },
    "id": "myXJDvPaB1Yo",
    "outputId": "39264263-1471-496f-b469-0b94fb82bca8",
    "papermill": {
     "duration": 0.244106,
     "end_time": "2024-03-06T05:24:06.135328",
     "exception": false,
     "start_time": "2024-03-06T05:24:05.891222",
     "status": "completed"
    },
    "tags": []
   },
   "outputs": [
    {
     "name": "stdout",
     "output_type": "stream",
     "text": [
      "race 2273\n",
      "gender 0\n",
      "age 0\n",
      "weight 98569\n",
      "payer_code 40256\n",
      "medical_specialty 49949\n",
      "diag_1 21\n",
      "diag_2 358\n",
      "diag_3 1423\n",
      "max_glu_serum 0\n",
      "A1Cresult 0\n",
      "metformin 0\n",
      "repaglinide 0\n",
      "nateglinide 0\n",
      "chlorpropamide 0\n",
      "glimepiride 0\n",
      "acetohexamide 0\n",
      "glipizide 0\n",
      "glyburide 0\n",
      "tolbutamide 0\n",
      "pioglitazone 0\n",
      "rosiglitazone 0\n",
      "acarbose 0\n",
      "miglitol 0\n",
      "troglitazone 0\n",
      "tolazamide 0\n",
      "examide 0\n",
      "citoglipton 0\n",
      "insulin 0\n",
      "glyburide-metformin 0\n",
      "glipizide-metformin 0\n",
      "glimepiride-pioglitazone 0\n",
      "metformin-rosiglitazone 0\n",
      "metformin-pioglitazone 0\n",
      "change 0\n",
      "diabetesMed 0\n",
      "readmitted 0\n",
      "gender 3\n"
     ]
    }
   ],
   "source": [
    "for col in df.columns:\n",
    "    if df[col].dtype == object:\n",
    "         print(col,df[col][df[col] == '?'].count())\n",
    "\n",
    "# For genders:\n",
    "print('gender', df['gender'][df['gender'] == 'Unknown/Invalid'].count())"
   ]
  },
  {
   "cell_type": "markdown",
   "id": "0b4176bd",
   "metadata": {
    "id": "tDUWk9I7Crye",
    "papermill": {
     "duration": 0.010819,
     "end_time": "2024-03-06T05:24:06.157580",
     "exception": false,
     "start_time": "2024-03-06T05:24:06.146761",
     "status": "completed"
    },
    "tags": []
   },
   "source": [
    "Note that there are variables with many null values (weight, payer_code and medical_specialty). In this case, we will delete these columns. In the other cases, we will treat them so that they can still be used."
   ]
  },
  {
   "cell_type": "markdown",
   "id": "c8f1a7aa",
   "metadata": {
    "id": "Mvcoh7FgDd8Q",
    "papermill": {
     "duration": 0.010938,
     "end_time": "2024-03-06T05:24:06.179937",
     "exception": false,
     "start_time": "2024-03-06T05:24:06.168999",
     "status": "completed"
    },
    "tags": []
   },
   "source": [
    "## Deleting null values"
   ]
  },
  {
   "cell_type": "code",
   "execution_count": 6,
   "id": "86f9621f",
   "metadata": {
    "execution": {
     "iopub.execute_input": "2024-03-06T05:24:06.204266Z",
     "iopub.status.busy": "2024-03-06T05:24:06.203743Z",
     "iopub.status.idle": "2024-03-06T05:24:06.294733Z",
     "shell.execute_reply": "2024-03-06T05:24:06.293135Z"
    },
    "id": "2iYyluXgDs8F",
    "papermill": {
     "duration": 0.105633,
     "end_time": "2024-03-06T05:24:06.297135",
     "exception": false,
     "start_time": "2024-03-06T05:24:06.191502",
     "status": "completed"
    },
    "tags": []
   },
   "outputs": [],
   "source": [
    "# Removing columns with many null values\n",
    "df = df.drop(['weight','payer_code','medical_specialty'], axis = 'columns')\n",
    "\n",
    "# Removing medication that don't give us information\n",
    "df.drop(['examide','citoglipton'], axis='columns', inplace=True)"
   ]
  },
  {
   "cell_type": "markdown",
   "id": "8f3c1972",
   "metadata": {
    "id": "WBzhJzwHGRi3",
    "papermill": {
     "duration": 0.011278,
     "end_time": "2024-03-06T05:24:06.320002",
     "exception": false,
     "start_time": "2024-03-06T05:24:06.308724",
     "status": "completed"
    },
    "tags": []
   },
   "source": [
    "Then we will create an *index* with all the **rows** that have some value (said earlier) that will need to be deleted."
   ]
  },
  {
   "cell_type": "code",
   "execution_count": 7,
   "id": "5d1495b7",
   "metadata": {
    "execution": {
     "iopub.execute_input": "2024-03-06T05:24:06.344703Z",
     "iopub.status.busy": "2024-03-06T05:24:06.344069Z",
     "iopub.status.idle": "2024-03-06T05:24:06.436250Z",
     "shell.execute_reply": "2024-03-06T05:24:06.435267Z"
    },
    "id": "i6BgIGSRHUnq",
    "papermill": {
     "duration": 0.106875,
     "end_time": "2024-03-06T05:24:06.438486",
     "exception": false,
     "start_time": "2024-03-06T05:24:06.331611",
     "status": "completed"
    },
    "tags": []
   },
   "outputs": [],
   "source": [
    "# Creating a boolean \"mask\" for each variable\n",
    "mask_race = df['race'] == '?'\n",
    "mask_diag1 = df['diag_1'] == '?'\n",
    "mask_diag2 = df['diag_2'] == '?'\n",
    "mask_diag3 = df['diag_3'] == '?'\n",
    "mask_gender = df['gender'] == 'Unknown/Invalid'\n",
    "\n",
    "# Combining the masks using \"or\" and getting the indices of the rows that contain at least 1 null\n",
    "combined_mask = np.logical_or.reduce([mask_race, mask_diag1, mask_diag2, mask_diag3, mask_gender])\n",
    "drop_indices = df[combined_mask].index\n",
    "\n",
    "# Removing rows from DataFrame\n",
    "df.drop(drop_indices, inplace=True)"
   ]
  },
  {
   "cell_type": "markdown",
   "id": "4b58fdb9",
   "metadata": {
    "id": "CYtQQkObNPnA",
    "papermill": {
     "duration": 0.010818,
     "end_time": "2024-03-06T05:24:06.460652",
     "exception": false,
     "start_time": "2024-03-06T05:24:06.449834",
     "status": "completed"
    },
    "tags": []
   },
   "source": [
    "## Checking for duplicates"
   ]
  },
  {
   "cell_type": "code",
   "execution_count": 8,
   "id": "b1415a33",
   "metadata": {
    "_kg_hide-output": true,
    "execution": {
     "iopub.execute_input": "2024-03-06T05:24:06.483930Z",
     "iopub.status.busy": "2024-03-06T05:24:06.483593Z",
     "iopub.status.idle": "2024-03-06T05:24:06.705812Z",
     "shell.execute_reply": "2024-03-06T05:24:06.705002Z"
    },
    "id": "DDPrGNheN0fs",
    "papermill": {
     "duration": 0.236118,
     "end_time": "2024-03-06T05:24:06.707640",
     "exception": false,
     "start_time": "2024-03-06T05:24:06.471522",
     "status": "completed"
    },
    "tags": []
   },
   "outputs": [
    {
     "name": "stdout",
     "output_type": "stream",
     "text": [
      "Empty DataFrame\n",
      "Columns: [encounter_id, patient_nbr, race, gender, age, admission_type_id, discharge_disposition_id, admission_source_id, time_in_hospital, num_lab_procedures, num_procedures, num_medications, number_outpatient, number_emergency, number_inpatient, diag_1, diag_2, diag_3, number_diagnoses, max_glu_serum, A1Cresult, metformin, repaglinide, nateglinide, chlorpropamide, glimepiride, acetohexamide, glipizide, glyburide, tolbutamide, pioglitazone, rosiglitazone, acarbose, miglitol, troglitazone, tolazamide, insulin, glyburide-metformin, glipizide-metformin, glimepiride-pioglitazone, metformin-rosiglitazone, metformin-pioglitazone, change, diabetesMed, readmitted]\n",
      "Index: []\n",
      "\n",
      "[0 rows x 45 columns]\n"
     ]
    }
   ],
   "source": [
    "duplicates = df.duplicated()\n",
    "print(df[duplicates])"
   ]
  },
  {
   "cell_type": "markdown",
   "id": "5622ee6c",
   "metadata": {
    "id": "dASUCR2JRr2z",
    "papermill": {
     "duration": 0.011126,
     "end_time": "2024-03-06T05:24:06.730196",
     "exception": false,
     "start_time": "2024-03-06T05:24:06.719070",
     "status": "completed"
    },
    "tags": []
   },
   "source": [
    "Since it doesn't print anything, there are no duplicate variables in our DataFrame. However, there will probably be duplicate patient numbers (in the \"patient_nbr\" variable), so let's deal with that next.\n",
    "\n"
   ]
  },
  {
   "cell_type": "markdown",
   "id": "6fd4f7e8",
   "metadata": {
    "id": "7k9lr8L4R8vO",
    "papermill": {
     "duration": 0.011112,
     "end_time": "2024-03-06T05:24:06.752750",
     "exception": false,
     "start_time": "2024-03-06T05:24:06.741638",
     "status": "completed"
    },
    "tags": []
   },
   "source": [
    "## Performing some operations for analysis"
   ]
  },
  {
   "cell_type": "code",
   "execution_count": 9,
   "id": "061681ad",
   "metadata": {
    "execution": {
     "iopub.execute_input": "2024-03-06T05:24:06.777472Z",
     "iopub.status.busy": "2024-03-06T05:24:06.776947Z",
     "iopub.status.idle": "2024-03-06T05:24:06.782056Z",
     "shell.execute_reply": "2024-03-06T05:24:06.781384Z"
    },
    "id": "hHCz_DADSBlY",
    "papermill": {
     "duration": 0.020041,
     "end_time": "2024-03-06T05:24:06.784160",
     "exception": false,
     "start_time": "2024-03-06T05:24:06.764119",
     "status": "completed"
    },
    "tags": []
   },
   "outputs": [],
   "source": [
    "# Creating a variable that is the sum of others\n",
    "df['service_utilization'] = df['number_outpatient'] + df['number_emergency'] + df['number_inpatient']"
   ]
  },
  {
   "cell_type": "markdown",
   "id": "aa704a9a",
   "metadata": {
    "id": "N-vK7UQt3hGQ",
    "papermill": {
     "duration": 0.011368,
     "end_time": "2024-03-06T05:24:06.807615",
     "exception": false,
     "start_time": "2024-03-06T05:24:06.796247",
     "status": "completed"
    },
    "tags": []
   },
   "source": [
    "These are values of how many hospital services a person used last year. We added these three services together to create a new variable \"service_utilization\" to simplify when trying to figure out some relationship.\n",
    "\n",
    "Changing medication for diabetics on admission has been shown by previous research to be associated with lower readmission rates. So let's count how many changes were made in total for each patient and put this variable as a new resource."
   ]
  },
  {
   "cell_type": "code",
   "execution_count": 10,
   "id": "df71143c",
   "metadata": {
    "_kg_hide-output": true,
    "execution": {
     "iopub.execute_input": "2024-03-06T05:24:06.832094Z",
     "iopub.status.busy": "2024-03-06T05:24:06.831724Z",
     "iopub.status.idle": "2024-03-06T05:24:07.515869Z",
     "shell.execute_reply": "2024-03-06T05:24:07.514828Z"
    },
    "id": "ooDEGNCM20Ed",
    "papermill": {
     "duration": 0.698885,
     "end_time": "2024-03-06T05:24:07.517879",
     "exception": false,
     "start_time": "2024-03-06T05:24:06.818994",
     "status": "completed"
    },
    "tags": []
   },
   "outputs": [
    {
     "data": {
      "text/plain": [
       "0    71309\n",
       "1    25350\n",
       "2     1281\n",
       "3      107\n",
       "4        5\n",
       "Name: numchange, dtype: int64"
      ]
     },
     "execution_count": 10,
     "metadata": {},
     "output_type": "execute_result"
    }
   ],
   "source": [
    "# Medications\n",
    "keys = ['metformin', 'repaglinide', 'nateglinide', 'chlorpropamide', 'glimepiride', 'glipizide',\n",
    "        'glyburide', 'pioglitazone', 'rosiglitazone', 'acarbose', 'miglitol', 'insulin', 'glyburide-metformin',\n",
    "        'tolazamide', 'metformin-pioglitazone','metformin-rosiglitazone', 'glimepiride-pioglitazone', 'glipizide-metformin',\n",
    "        'troglitazone', 'tolbutamide', 'acetohexamide']\n",
    "\n",
    "# Counting changes\n",
    "for col in keys:\n",
    "    colname = str(col) + 'temp'\n",
    "    df[colname] = df[col].apply(lambda x: 0 if (x == 'No' or x == 'Steady') else 1)\n",
    "df['numchange'] = 0\n",
    "for col in keys:\n",
    "    colname = str(col) + 'temp'\n",
    "    df['numchange'] = df['numchange'] + df[colname]\n",
    "    del df[colname]\n",
    "df['numchange'].value_counts()\n"
   ]
  },
  {
   "cell_type": "markdown",
   "id": "6cc6254a",
   "metadata": {
    "id": "bTCmPqHN8Uzl",
    "papermill": {
     "duration": 0.010911,
     "end_time": "2024-03-06T05:24:07.540396",
     "exception": false,
     "start_time": "2024-03-06T05:24:07.529485",
     "status": "completed"
    },
    "tags": []
   },
   "source": [
    "## Recoding variables"
   ]
  },
  {
   "cell_type": "code",
   "execution_count": 11,
   "id": "c2f51aec",
   "metadata": {
    "execution": {
     "iopub.execute_input": "2024-03-06T05:24:07.564081Z",
     "iopub.status.busy": "2024-03-06T05:24:07.563730Z",
     "iopub.status.idle": "2024-03-06T05:24:07.680470Z",
     "shell.execute_reply": "2024-03-06T05:24:07.679059Z"
    },
    "id": "AEPY46zy8ZPD",
    "papermill": {
     "duration": 0.131187,
     "end_time": "2024-03-06T05:24:07.682671",
     "exception": false,
     "start_time": "2024-03-06T05:24:07.551484",
     "status": "completed"
    },
    "tags": []
   },
   "outputs": [],
   "source": [
    "# Using replace() to replace values\n",
    "df['A1Cresult'] = df['A1Cresult'].replace({'>7': 1, '>8': 1, 'Norm': 0, 'None': -99})\n",
    "df['max_glu_serum'] = df['max_glu_serum'].replace({'>200': 1, '>300': 1, 'Norm': 0, 'None': -99})\n",
    "df['admission_type_id'] = df['admission_type_id'].replace({2: 1, 7: 1, 6: 5, 8: 5})\n",
    "df['discharge_disposition_id'] = df['discharge_disposition_id'].replace({6: 1, 8: 1, 9: 1, 13: 1,\n",
    "                                                                         3: 2, 4: 2, 5: 2, 14: 2, 22: 2, 23: 2, 24: 2,\n",
    "                                                                         12: 10, 15: 10, 16: 10, 17: 10,\n",
    "                                                                         25: 18, 26: 18})\n",
    "df['admission_source_id'] = df['admission_source_id'].replace({2: 1, 3: 1,\n",
    "                                                               5: 4, 6: 4, 10: 4, 22: 4, 25: 4,\n",
    "                                                               15: 9, 17: 9, 20: 9, 21: 9,\n",
    "                                                               13: 11, 14: 11})"
   ]
  },
  {
   "cell_type": "markdown",
   "id": "594442e0",
   "metadata": {
    "id": "4FRhuLapCjhE",
    "papermill": {
     "duration": 0.010887,
     "end_time": "2024-03-06T05:24:07.705119",
     "exception": false,
     "start_time": "2024-03-06T05:24:07.694232",
     "status": "completed"
    },
    "tags": []
   },
   "source": [
    "Our dataset uses string values for \"gender\", \"race\", \"medication chance\" and all medications. To improve our analysis we will adjust these variables to numeric."
   ]
  },
  {
   "cell_type": "code",
   "execution_count": 12,
   "id": "95dfbe26",
   "metadata": {
    "execution": {
     "iopub.execute_input": "2024-03-06T05:24:07.730718Z",
     "iopub.status.busy": "2024-03-06T05:24:07.730409Z",
     "iopub.status.idle": "2024-03-06T05:24:08.595402Z",
     "shell.execute_reply": "2024-03-06T05:24:08.594279Z"
    },
    "id": "9Vi-EjDKDEb-",
    "papermill": {
     "duration": 0.880569,
     "end_time": "2024-03-06T05:24:08.597924",
     "exception": false,
     "start_time": "2024-03-06T05:24:07.717355",
     "status": "completed"
    },
    "tags": []
   },
   "outputs": [],
   "source": [
    "df['change'] = df['change'].replace('Ch', 1)\n",
    "df['change'] = df['change'].replace('No', 0)\n",
    "df['gender'] = df['gender'].replace('Male', 1)\n",
    "df['gender'] = df['gender'].replace('Female', 0)\n",
    "df['diabetesMed'] = df['diabetesMed'].replace('Yes', 1)\n",
    "df['diabetesMed'] = df['diabetesMed'].replace('No', 0)\n",
    "\n",
    "for col in keys:\n",
    "    df[col] = df[col].replace('No', 0)\n",
    "    df[col] = df[col].replace('Steady', 1)\n",
    "    df[col] = df[col].replace('Up', 1)\n",
    "    df[col] = df[col].replace('Down', 1)"
   ]
  },
  {
   "cell_type": "markdown",
   "id": "c6e07494",
   "metadata": {
    "id": "Y4LrN66U9xZV",
    "papermill": {
     "duration": 0.012295,
     "end_time": "2024-03-06T05:24:08.622084",
     "exception": false,
     "start_time": "2024-03-06T05:24:08.609789",
     "status": "completed"
    },
    "tags": []
   },
   "source": [
    "Furthermore, we are only given age as 10-year-by-10-year categories, so we don't know the exact age of each patient. We want to be able to see the effect of increasing age on readmission (even if not as specific), and to do this we will assume that the mean patient age is at the midpoint of the age category."
   ]
  },
  {
   "cell_type": "code",
   "execution_count": 13,
   "id": "8396c296",
   "metadata": {
    "execution": {
     "iopub.execute_input": "2024-03-06T05:24:08.646579Z",
     "iopub.status.busy": "2024-03-06T05:24:08.646191Z",
     "iopub.status.idle": "2024-03-06T05:24:08.707197Z",
     "shell.execute_reply": "2024-03-06T05:24:08.706422Z"
    },
    "id": "TTsC5kps-IoX",
    "papermill": {
     "duration": 0.075746,
     "end_time": "2024-03-06T05:24:08.709321",
     "exception": false,
     "start_time": "2024-03-06T05:24:08.633575",
     "status": "completed"
    },
    "tags": []
   },
   "outputs": [
    {
     "data": {
      "text/plain": [
       "8     25305\n",
       "7     21809\n",
       "9     16702\n",
       "6     16697\n",
       "5      9265\n",
       "4      3548\n",
       "10     2717\n",
       "3      1478\n",
       "2       466\n",
       "1        65\n",
       "Name: age, dtype: int64"
      ]
     },
     "execution_count": 13,
     "metadata": {},
     "output_type": "execute_result"
    }
   ],
   "source": [
    "for i in range(0,10):\n",
    "    df['age'] = df['age'].replace('['+str(10*i)+'-'+str(10*(i+1))+')', i+1)\n",
    "df['age'].value_counts()"
   ]
  },
  {
   "cell_type": "markdown",
   "id": "47e86cc3",
   "metadata": {
    "id": "7UAriaG9FE1v",
    "papermill": {
     "duration": 0.011291,
     "end_time": "2024-03-06T05:24:08.732504",
     "exception": false,
     "start_time": "2024-03-06T05:24:08.721213",
     "status": "completed"
    },
    "tags": []
   },
   "source": [
    "As previously mentioned, several patients had several readmissions. So let's delete the other readmissions and leave only the first one."
   ]
  },
  {
   "cell_type": "code",
   "execution_count": 14,
   "id": "21017eff",
   "metadata": {
    "execution": {
     "iopub.execute_input": "2024-03-06T05:24:08.757318Z",
     "iopub.status.busy": "2024-03-06T05:24:08.756940Z",
     "iopub.status.idle": "2024-03-06T05:24:08.808745Z",
     "shell.execute_reply": "2024-03-06T05:24:08.807487Z"
    },
    "id": "COJo6lAVFrUb",
    "papermill": {
     "duration": 0.066958,
     "end_time": "2024-03-06T05:24:08.811054",
     "exception": false,
     "start_time": "2024-03-06T05:24:08.744096",
     "status": "completed"
    },
    "tags": []
   },
   "outputs": [],
   "source": [
    "df.drop_duplicates(subset =\"patient_nbr\", keep = \"first\", inplace = True)\n",
    "df.drop(['encounter_id','patient_nbr'], axis='columns', inplace=True)"
   ]
  },
  {
   "cell_type": "markdown",
   "id": "f66ab602",
   "metadata": {
    "id": "1PwKz4KKHV0Z",
    "papermill": {
     "duration": 0.011394,
     "end_time": "2024-03-06T05:24:08.834191",
     "exception": false,
     "start_time": "2024-03-06T05:24:08.822797",
     "status": "completed"
    },
    "tags": []
   },
   "source": [
    "The outcome we are looking for is whether the patient is readmitted to the hospital within 30 days or not. To reduce our problem to a binary classification, we combined readmission after 30 days and non-readmission into a single category."
   ]
  },
  {
   "cell_type": "code",
   "execution_count": 15,
   "id": "8e7b6bab",
   "metadata": {
    "execution": {
     "iopub.execute_input": "2024-03-06T05:24:08.858940Z",
     "iopub.status.busy": "2024-03-06T05:24:08.858621Z",
     "iopub.status.idle": "2024-03-06T05:24:08.888946Z",
     "shell.execute_reply": "2024-03-06T05:24:08.887615Z"
    },
    "id": "RIEmfXVEHfJm",
    "papermill": {
     "duration": 0.045555,
     "end_time": "2024-03-06T05:24:08.891342",
     "exception": false,
     "start_time": "2024-03-06T05:24:08.845787",
     "status": "completed"
    },
    "tags": []
   },
   "outputs": [],
   "source": [
    "df['readmitted'] = df['readmitted'].replace({'<30': 1, '>30': 0, 'NO': 0})\n",
    "df['readmitted'] = df['readmitted'].map({0: 0, 1: 1}).fillna(0)"
   ]
  },
  {
   "cell_type": "markdown",
   "id": "c05432bf",
   "metadata": {
    "id": "NPLOFGBaIS5M",
    "papermill": {
     "duration": 0.011497,
     "end_time": "2024-03-06T05:24:08.916200",
     "exception": false,
     "start_time": "2024-03-06T05:24:08.904703",
     "status": "completed"
    },
    "tags": []
   },
   "source": [
    "## Data Visualization"
   ]
  },
  {
   "cell_type": "markdown",
   "id": "48456e5f",
   "metadata": {
    "id": "3X9voc-YvlOG",
    "papermill": {
     "duration": 0.011406,
     "end_time": "2024-03-06T05:24:08.939459",
     "exception": false,
     "start_time": "2024-03-06T05:24:08.928053",
     "status": "completed"
    },
    "tags": []
   },
   "source": [
    "Let's import one more library, **seaborn**. It is a data visualization library built on top of the matplotlib library."
   ]
  },
  {
   "cell_type": "code",
   "execution_count": 16,
   "id": "b37c4edc",
   "metadata": {
    "_kg_hide-output": true,
    "execution": {
     "iopub.execute_input": "2024-03-06T05:24:08.964777Z",
     "iopub.status.busy": "2024-03-06T05:24:08.964421Z",
     "iopub.status.idle": "2024-03-06T05:24:10.333239Z",
     "shell.execute_reply": "2024-03-06T05:24:10.332361Z"
    },
    "id": "QndBCVfUwTKX",
    "papermill": {
     "duration": 1.384114,
     "end_time": "2024-03-06T05:24:10.335409",
     "exception": false,
     "start_time": "2024-03-06T05:24:08.951295",
     "status": "completed"
    },
    "tags": []
   },
   "outputs": [
    {
     "name": "stderr",
     "output_type": "stream",
     "text": [
      "/opt/conda/lib/python3.10/site-packages/scipy/__init__.py:146: UserWarning: A NumPy version >=1.16.5 and <1.23.0 is required for this version of SciPy (detected version 1.23.5\n",
      "  warnings.warn(f\"A NumPy version >={np_minversion} and <{np_maxversion}\"\n"
     ]
    }
   ],
   "source": [
    "import seaborn as sns"
   ]
  },
  {
   "cell_type": "markdown",
   "id": "93921152",
   "metadata": {
    "id": "sgnKN9D-t2fq",
    "papermill": {
     "duration": 0.012115,
     "end_time": "2024-03-06T05:24:10.359724",
     "exception": false,
     "start_time": "2024-03-06T05:24:10.347609",
     "status": "completed"
    },
    "tags": []
   },
   "source": [
    "#### Readmission distribution"
   ]
  },
  {
   "cell_type": "code",
   "execution_count": 17,
   "id": "d87e8d15",
   "metadata": {
    "execution": {
     "iopub.execute_input": "2024-03-06T05:24:10.386096Z",
     "iopub.status.busy": "2024-03-06T05:24:10.385783Z",
     "iopub.status.idle": "2024-03-06T05:24:10.584048Z",
     "shell.execute_reply": "2024-03-06T05:24:10.582701Z"
    },
    "id": "RCCDX5vHt78k",
    "outputId": "8ff92578-23f4-4958-b4bc-7332b16b74d7",
    "papermill": {
     "duration": 0.214202,
     "end_time": "2024-03-06T05:24:10.586115",
     "exception": false,
     "start_time": "2024-03-06T05:24:10.371913",
     "status": "completed"
    },
    "tags": []
   },
   "outputs": [
    {
     "data": {
      "image/png": "[encoded data removed]",
      "text/plain": [
       "<Figure size 640x480 with 1 Axes>"
      ]
     },
     "metadata": {},
     "output_type": "display_data"
    }
   ],
   "source": [
    "sns.countplot(x = \"readmitted\", data = df)\n",
    "plt.title(\"Readmission distribution\")\n",
    "plt.show()"
   ]
  },
  {
   "cell_type": "code",
   "execution_count": 18,
   "id": "717ebfbf",
   "metadata": {
    "execution": {
     "iopub.execute_input": "2024-03-06T05:24:10.611663Z",
     "iopub.status.busy": "2024-03-06T05:24:10.611327Z",
     "iopub.status.idle": "2024-03-06T05:24:10.736678Z",
     "shell.execute_reply": "2024-03-06T05:24:10.735920Z"
    },
    "id": "EQ5gOpeTD6fu",
    "outputId": "d7a4df15-668d-4453-a5b3-8f0995ad7bd4",
    "papermill": {
     "duration": 0.140411,
     "end_time": "2024-03-06T05:24:10.738608",
     "exception": false,
     "start_time": "2024-03-06T05:24:10.598197",
     "status": "completed"
    },
    "tags": []
   },
   "outputs": [
    {
     "data": {
      "image/png": "[encoded data removed]",
      "text/plain": [
       "<Figure size 640x480 with 1 Axes>"
      ]
     },
     "metadata": {},
     "output_type": "display_data"
    }
   ],
   "source": [
    "df.readmitted.value_counts().plot.pie(autopct = \"%.1f%%\")\n",
    "plt.title(\"Proportion\")\n",
    "plt.show()"
   ]
  },
  {
   "cell_type": "markdown",
   "id": "aa383f65",
   "metadata": {
    "id": "a_CHhxAQuCG0",
    "papermill": {
     "duration": 0.015242,
     "end_time": "2024-03-06T05:24:10.769557",
     "exception": false,
     "start_time": "2024-03-06T05:24:10.754315",
     "status": "completed"
    },
    "tags": []
   },
   "source": [
    "#### Time in hospital X Readmitted"
   ]
  },
  {
   "cell_type": "code",
   "execution_count": 19,
   "id": "5414a1a8",
   "metadata": {
    "execution": {
     "iopub.execute_input": "2024-03-06T05:24:10.804609Z",
     "iopub.status.busy": "2024-03-06T05:24:10.803658Z",
     "iopub.status.idle": "2024-03-06T05:24:11.294180Z",
     "shell.execute_reply": "2024-03-06T05:24:11.292735Z"
    },
    "id": "w2hzbA9RuMpa",
    "outputId": "747378b8-4520-4779-dc9a-afd48ef9b548",
    "papermill": {
     "duration": 0.511473,
     "end_time": "2024-03-06T05:24:11.296621",
     "exception": false,
     "start_time": "2024-03-06T05:24:10.785148",
     "status": "completed"
    },
    "tags": []
   },
   "outputs": [
    {
     "data": {
      "image/png": "[encoded data removed]",
      "text/plain": [
       "<Figure size 1300x700 with 1 Axes>"
      ]
     },
     "metadata": {},
     "output_type": "display_data"
    }
   ],
   "source": [
    "fig, ax = plt.subplots(figsize=(13, 7))\n",
    "\n",
    "sns.kdeplot(data=df, x='time_in_hospital', hue='readmitted', fill=True, common_norm=False, palette=['b', 'r'],\n",
    "            alpha=.5, linewidth=0)\n",
    "\n",
    "ax.set(xlabel='Time in hospital', ylabel='Frequency')\n",
    "plt.title('Time in hospital X Readmitted')\n",
    "\n",
    "plt.show()"
   ]
  },
  {
   "cell_type": "markdown",
   "id": "d026f668",
   "metadata": {
    "id": "s4_RAvZCuTXH",
    "papermill": {
     "duration": 0.012178,
     "end_time": "2024-03-06T05:24:11.321952",
     "exception": false,
     "start_time": "2024-03-06T05:24:11.309774",
     "status": "completed"
    },
    "tags": []
   },
   "source": [
    "#### Age X Readmitted"
   ]
  },
  {
   "cell_type": "code",
   "execution_count": 20,
   "id": "5d86d6a3",
   "metadata": {
    "execution": {
     "iopub.execute_input": "2024-03-06T05:24:11.349210Z",
     "iopub.status.busy": "2024-03-06T05:24:11.348512Z",
     "iopub.status.idle": "2024-03-06T05:24:11.658021Z",
     "shell.execute_reply": "2024-03-06T05:24:11.656714Z"
    },
    "id": "4rydx-7fuaJQ",
    "outputId": "dc3d1924-dfb4-49fc-e21a-eaeb2dcca6ef",
    "papermill": {
     "duration": 0.325568,
     "end_time": "2024-03-06T05:24:11.659895",
     "exception": false,
     "start_time": "2024-03-06T05:24:11.334327",
     "status": "completed"
    },
    "tags": []
   },
   "outputs": [
    {
     "data": {
      "image/png": "[encoded data removed]",
      "text/plain": [
       "<Figure size 1500x1000 with 1 Axes>"
      ]
     },
     "metadata": {},
     "output_type": "display_data"
    }
   ],
   "source": [
    "plt.figure(figsize=(15, 10))\n",
    "sns.countplot(y=df['age'], hue=df['readmitted'])\n",
    "plt.title('Age X Readmitted')\n",
    "plt.show()"
   ]
  },
  {
   "cell_type": "markdown",
   "id": "26c3916c",
   "metadata": {
    "id": "sKZCy8Jouakb",
    "papermill": {
     "duration": 0.012586,
     "end_time": "2024-03-06T05:24:11.685505",
     "exception": false,
     "start_time": "2024-03-06T05:24:11.672919",
     "status": "completed"
    },
    "tags": []
   },
   "source": [
    "#### Race X Readimitted"
   ]
  },
  {
   "cell_type": "code",
   "execution_count": 21,
   "id": "8af63e1a",
   "metadata": {
    "execution": {
     "iopub.execute_input": "2024-03-06T05:24:11.715135Z",
     "iopub.status.busy": "2024-03-06T05:24:11.714460Z",
     "iopub.status.idle": "2024-03-06T05:24:11.981560Z",
     "shell.execute_reply": "2024-03-06T05:24:11.980441Z"
    },
    "id": "5P_JmTgmuedx",
    "outputId": "1bdd5ce0-934b-4dd4-804c-21c2be4adc56",
    "papermill": {
     "duration": 0.284484,
     "end_time": "2024-03-06T05:24:11.984224",
     "exception": false,
     "start_time": "2024-03-06T05:24:11.699740",
     "status": "completed"
    },
    "tags": []
   },
   "outputs": [
    {
     "data": {
      "text/plain": [
       "<Axes: xlabel='count', ylabel='race'>"
      ]
     },
     "execution_count": 21,
     "metadata": {},
     "output_type": "execute_result"
    },
    {
     "data": {
      "image/png": "[encoded data removed]",
      "text/plain": [
       "<Figure size 1000x700 with 1 Axes>"
      ]
     },
     "metadata": {},
     "output_type": "display_data"
    }
   ],
   "source": [
    "fig = plt.figure(figsize=(10,7))\n",
    "sns.countplot(y = df['race'], hue = df['readmitted'])"
   ]
  },
  {
   "cell_type": "markdown",
   "id": "e378799e",
   "metadata": {
    "id": "k_8umuGrufER",
    "papermill": {
     "duration": 0.013465,
     "end_time": "2024-03-06T05:24:12.014101",
     "exception": false,
     "start_time": "2024-03-06T05:24:12.000636",
     "status": "completed"
    },
    "tags": []
   },
   "source": [
    "#### Medications number X Readmitted"
   ]
  },
  {
   "cell_type": "code",
   "execution_count": 22,
   "id": "8a0c5803",
   "metadata": {
    "execution": {
     "iopub.execute_input": "2024-03-06T05:24:12.042918Z",
     "iopub.status.busy": "2024-03-06T05:24:12.042588Z",
     "iopub.status.idle": "2024-03-06T05:24:13.086932Z",
     "shell.execute_reply": "2024-03-06T05:24:13.085747Z"
    },
    "id": "O4MQkL96uijt",
    "outputId": "215f07f3-409a-479c-be53-ee6d9d2ed5d5",
    "papermill": {
     "duration": 1.061503,
     "end_time": "2024-03-06T05:24:13.089100",
     "exception": false,
     "start_time": "2024-03-06T05:24:12.027597",
     "status": "completed"
    },
    "tags": []
   },
   "outputs": [
    {
     "data": {
      "image/png": "[encoded data removed]",
      "text/plain": [
       "<Figure size 1000x800 with 1 Axes>"
      ]
     },
     "metadata": {},
     "output_type": "display_data"
    }
   ],
   "source": [
    "plt.figure(figsize=(10, 8))\n",
    "sns.barplot(x=df['readmitted'], y=df['num_medications'], palette='Set2')\n",
    "plt.title(\"Medications number X Readmitted\")\n",
    "plt.xlabel(\"Readmitted\")\n",
    "plt.ylabel(\"Medications number\")\n",
    "plt.xticks(ticks=[0, 1], labels=['Not Readmitted', 'Readmitted'])\n",
    "\n",
    "plt.show()"
   ]
  },
  {
   "cell_type": "markdown",
   "id": "c6eb3785",
   "metadata": {
    "id": "yqkExv02ulDK",
    "papermill": {
     "duration": 0.013585,
     "end_time": "2024-03-06T05:24:13.116734",
     "exception": false,
     "start_time": "2024-03-06T05:24:13.103149",
     "status": "completed"
    },
    "tags": []
   },
   "source": [
    "#### Gender X Readmitted"
   ]
  },
  {
   "cell_type": "code",
   "execution_count": 23,
   "id": "c3a101fd",
   "metadata": {
    "execution": {
     "iopub.execute_input": "2024-03-06T05:24:13.145733Z",
     "iopub.status.busy": "2024-03-06T05:24:13.145408Z",
     "iopub.status.idle": "2024-03-06T05:24:13.154828Z",
     "shell.execute_reply": "2024-03-06T05:24:13.153325Z"
    },
    "id": "FeXJBHGhupR3",
    "papermill": {
     "duration": 0.026622,
     "end_time": "2024-03-06T05:24:13.157012",
     "exception": false,
     "start_time": "2024-03-06T05:24:13.130390",
     "status": "completed"
    },
    "tags": []
   },
   "outputs": [],
   "source": [
    "df['gender'] = df['gender'].replace({'0': 'Female', '1': 'Male'})\n",
    "df['gender'] = df['gender'].astype('category')"
   ]
  },
  {
   "cell_type": "code",
   "execution_count": 24,
   "id": "44b62625",
   "metadata": {
    "execution": {
     "iopub.execute_input": "2024-03-06T05:24:13.185950Z",
     "iopub.status.busy": "2024-03-06T05:24:13.185653Z",
     "iopub.status.idle": "2024-03-06T05:24:13.386043Z",
     "shell.execute_reply": "2024-03-06T05:24:13.385256Z"
    },
    "id": "Yd636u9VJAE6",
    "outputId": "361aae22-9965-49f5-89ba-f299387a6f3c",
    "papermill": {
     "duration": 0.217355,
     "end_time": "2024-03-06T05:24:13.388164",
     "exception": false,
     "start_time": "2024-03-06T05:24:13.170809",
     "status": "completed"
    },
    "tags": []
   },
   "outputs": [
    {
     "data": {
      "image/png": "[encoded data removed]",
      "text/plain": [
       "<Figure size 800x800 with 1 Axes>"
      ]
     },
     "metadata": {},
     "output_type": "display_data"
    }
   ],
   "source": [
    "plt.figure(figsize=(8, 8))\n",
    "sns.countplot(x=df['gender'], hue=df['readmitted'])\n",
    "plt.title(\"Gender X Readmitted\")\n",
    "plt.legend(['Not Readmitted', 'Readmitted'])\n",
    "\n",
    "plt.show()"
   ]
  },
  {
   "cell_type": "markdown",
   "id": "2fdbf5e6",
   "metadata": {
    "id": "OIXV9Wl2upmN",
    "papermill": {
     "duration": 0.014233,
     "end_time": "2024-03-06T05:24:13.416926",
     "exception": false,
     "start_time": "2024-03-06T05:24:13.402693",
     "status": "completed"
    },
    "tags": []
   },
   "source": [
    "#### Medication Change X Readmitted"
   ]
  },
  {
   "cell_type": "code",
   "execution_count": 25,
   "id": "423b5dbc",
   "metadata": {
    "execution": {
     "iopub.execute_input": "2024-03-06T05:24:13.447312Z",
     "iopub.status.busy": "2024-03-06T05:24:13.446940Z",
     "iopub.status.idle": "2024-03-06T05:24:13.455469Z",
     "shell.execute_reply": "2024-03-06T05:24:13.454643Z"
    },
    "id": "iLGHvcHeut_z",
    "papermill": {
     "duration": 0.026069,
     "end_time": "2024-03-06T05:24:13.457389",
     "exception": false,
     "start_time": "2024-03-06T05:24:13.431320",
     "status": "completed"
    },
    "tags": []
   },
   "outputs": [],
   "source": [
    "df['change'] = df['change'].replace({0: 0, 1: 1})"
   ]
  },
  {
   "cell_type": "code",
   "execution_count": 26,
   "id": "074645ca",
   "metadata": {
    "execution": {
     "iopub.execute_input": "2024-03-06T05:24:13.486907Z",
     "iopub.status.busy": "2024-03-06T05:24:13.486586Z",
     "iopub.status.idle": "2024-03-06T05:24:13.732153Z",
     "shell.execute_reply": "2024-03-06T05:24:13.730999Z"
    },
    "id": "12qV8UIuMcUr",
    "outputId": "f3cc1e2c-f5fd-4780-9181-0e584b024060",
    "papermill": {
     "duration": 0.262674,
     "end_time": "2024-03-06T05:24:13.734224",
     "exception": false,
     "start_time": "2024-03-06T05:24:13.471550",
     "status": "completed"
    },
    "tags": []
   },
   "outputs": [
    {
     "data": {
      "text/plain": [
       "Text(0.5, 1.0, 'Medication Change X Readmitted')"
      ]
     },
     "execution_count": 26,
     "metadata": {},
     "output_type": "execute_result"
    },
    {
     "data": {
      "image/png": "[encoded data removed]",
      "text/plain": [
       "<Figure size 800x800 with 1 Axes>"
      ]
     },
     "metadata": {},
     "output_type": "display_data"
    }
   ],
   "source": [
    "fig = plt.figure(figsize=(8,8))\n",
    "sns.countplot(x=df['change'], hue=df['readmitted'])\n",
    "plt.title('Medication Change X Readmitted')"
   ]
  },
  {
   "cell_type": "markdown",
   "id": "0a332cbf",
   "metadata": {
    "id": "FX1N6LLLuuUK",
    "papermill": {
     "duration": 0.014113,
     "end_time": "2024-03-06T05:24:13.762859",
     "exception": false,
     "start_time": "2024-03-06T05:24:13.748746",
     "status": "completed"
    },
    "tags": []
   },
   "source": [
    "#### Glucose serum test result X Readmission"
   ]
  },
  {
   "cell_type": "code",
   "execution_count": 27,
   "id": "c55d5610",
   "metadata": {
    "execution": {
     "iopub.execute_input": "2024-03-06T05:24:13.793376Z",
     "iopub.status.busy": "2024-03-06T05:24:13.793057Z",
     "iopub.status.idle": "2024-03-06T05:24:14.025488Z",
     "shell.execute_reply": "2024-03-06T05:24:14.024334Z"
    },
    "id": "tBJhbS9iuzao",
    "outputId": "641a1f4a-e777-4bc4-d214-56ca05e31a77",
    "papermill": {
     "duration": 0.250224,
     "end_time": "2024-03-06T05:24:14.027557",
     "exception": false,
     "start_time": "2024-03-06T05:24:13.777333",
     "status": "completed"
    },
    "tags": []
   },
   "outputs": [
    {
     "data": {
      "text/plain": [
       "Text(0.5, 1.0, 'Glucose test serum test result VS. Readmission')"
      ]
     },
     "execution_count": 27,
     "metadata": {},
     "output_type": "execute_result"
    },
    {
     "data": {
      "image/png": "[encoded data removed]",
      "text/plain": [
       "<Figure size 800x800 with 1 Axes>"
      ]
     },
     "metadata": {},
     "output_type": "display_data"
    }
   ],
   "source": [
    "fig = plt.figure(figsize=(8,8))\n",
    "sns.countplot(y = df['max_glu_serum'], hue = df['readmitted']).set_title('Glucose test serum test result VS. Readmission')"
   ]
  },
  {
   "cell_type": "markdown",
   "id": "9dfbca36",
   "metadata": {
    "id": "bf8TLFXeuznd",
    "papermill": {
     "duration": 0.015261,
     "end_time": "2024-03-06T05:24:14.058167",
     "exception": false,
     "start_time": "2024-03-06T05:24:14.042906",
     "status": "completed"
    },
    "tags": []
   },
   "source": [
    "#### A1C result X Readmission"
   ]
  },
  {
   "cell_type": "code",
   "execution_count": 28,
   "id": "14d4a463",
   "metadata": {
    "execution": {
     "iopub.execute_input": "2024-03-06T05:24:14.090030Z",
     "iopub.status.busy": "2024-03-06T05:24:14.089636Z",
     "iopub.status.idle": "2024-03-06T05:24:14.320307Z",
     "shell.execute_reply": "2024-03-06T05:24:14.318852Z"
    },
    "id": "_SUYb6rmu1Xj",
    "outputId": "87d819d1-e121-4d8f-ec0b-08290f1978bd",
    "papermill": {
     "duration": 0.24899,
     "end_time": "2024-03-06T05:24:14.322196",
     "exception": false,
     "start_time": "2024-03-06T05:24:14.073206",
     "status": "completed"
    },
    "tags": []
   },
   "outputs": [
    {
     "data": {
      "text/plain": [
       "Text(0.5, 1.0, 'A1C test result VS. Readmission')"
      ]
     },
     "execution_count": 28,
     "metadata": {},
     "output_type": "execute_result"
    },
    {
     "data": {
      "image/png": "[encoded data removed]",
      "text/plain": [
       "<Figure size 800x800 with 1 Axes>"
      ]
     },
     "metadata": {},
     "output_type": "display_data"
    }
   ],
   "source": [
    "fig = plt.figure(figsize=(8,8))\n",
    "sns.countplot(y= df['A1Cresult'], hue = df['readmitted']).set_title('A1C test result VS. Readmission')"
   ]
  }
 ],
 "metadata": {
  "kaggle": {
   "accelerator": "none",
   "dataSources": [
    {
     "datasetId": 3724,
     "sourceId": 5903,
     "sourceType": "datasetVersion"
    }
   ],
   "dockerImageVersionId": 30527,
   "isGpuEnabled": false,
   "isInternetEnabled": true,
   "language": "python",
   "sourceType": "notebook"
  },
  "kernelspec": {
   "display_name": "Python 3",
   "language": "python",
   "name": "python3"
  },
  "language_info": {
   "codemirror_mode": {
    "name": "ipython",
    "version": 3
   },
   "file_extension": ".py",
   "mimetype": "text/x-python",
   "name": "python",
   "nbconvert_exporter": "python",
   "pygments_lexer": "ipython3",
   "version": "3.10.12"
  },
  "papermill": {
   "default_parameters": {},
   "duration": 20.238122,
   "end_time": "2024-03-06T05:24:15.259438",
   "environment_variables": {},
   "exception": null,
   "input_path": "__notebook__.ipynb",
   "output_path": "__notebook__.ipynb",
   "parameters": {},
   "start_time": "2024-03-06T05:23:55.021316",
   "version": "2.4.0"
  }
 },
 "nbformat": 4,
 "nbformat_minor": 5
}
